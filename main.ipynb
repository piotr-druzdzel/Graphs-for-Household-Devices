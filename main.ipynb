{
 "cells": [
  {
   "cell_type": "code",
   "execution_count": 1,
   "metadata": {},
   "outputs": [],
   "source": [
    "import pandas as pd\n",
    "import seaborn as sns"
   ]
  },
  {
   "cell_type": "code",
   "execution_count": 2,
   "metadata": {},
   "outputs": [
    {
     "data": {
      "text/html": [
       "<div>\n",
       "<style scoped>\n",
       "    .dataframe tbody tr th:only-of-type {\n",
       "        vertical-align: middle;\n",
       "    }\n",
       "\n",
       "    .dataframe tbody tr th {\n",
       "        vertical-align: top;\n",
       "    }\n",
       "\n",
       "    .dataframe thead th {\n",
       "        text-align: right;\n",
       "    }\n",
       "</style>\n",
       "<table border=\"1\" class=\"dataframe\">\n",
       "  <thead>\n",
       "    <tr style=\"text-align: right;\">\n",
       "      <th></th>\n",
       "      <th>event_time</th>\n",
       "      <th>user_uuid</th>\n",
       "      <th>devicegroup</th>\n",
       "      <th>device</th>\n",
       "      <th>ip_address</th>\n",
       "      <th>os_family</th>\n",
       "      <th>os_name</th>\n",
       "      <th>browser_name</th>\n",
       "      <th>locode</th>\n",
       "      <th>postal_code</th>\n",
       "    </tr>\n",
       "  </thead>\n",
       "  <tbody>\n",
       "    <tr>\n",
       "      <th>0</th>\n",
       "      <td>1534262899</td>\n",
       "      <td>c7f3d022e57d46ec78d1626a016ecb9281fbe2b2</td>\n",
       "      <td>PC</td>\n",
       "      <td>Other$Other</td>\n",
       "      <td>4523dfed2d55afbd76286861e0b764e08d4695f7</td>\n",
       "      <td>Windows</td>\n",
       "      <td>10</td>\n",
       "      <td>Firefox</td>\n",
       "      <td>DE-BY-POS</td>\n",
       "      <td>92353</td>\n",
       "    </tr>\n",
       "    <tr>\n",
       "      <th>1</th>\n",
       "      <td>1534265100</td>\n",
       "      <td>b602d594afd2b0b327e07a06f36ca6a7e42546d0</td>\n",
       "      <td>PC</td>\n",
       "      <td>Other$Other</td>\n",
       "      <td>313f8be041b0a4b47127bdc099ffcb9fbe40aca9</td>\n",
       "      <td>Windows</td>\n",
       "      <td>7</td>\n",
       "      <td>Chrome</td>\n",
       "      <td>DE-ST-MAG</td>\n",
       "      <td>39126</td>\n",
       "    </tr>\n",
       "    <tr>\n",
       "      <th>2</th>\n",
       "      <td>1534265100</td>\n",
       "      <td>7ea941558d60dd9025cf9ff65cc4b07a1e586f21</td>\n",
       "      <td>ConnectedTV</td>\n",
       "      <td>Samsung$Other</td>\n",
       "      <td>8169f04e199ced559079f5612b2bd91304bc3e73</td>\n",
       "      <td>Other</td>\n",
       "      <td>Other</td>\n",
       "      <td>Other</td>\n",
       "      <td>DE-NW-GEB</td>\n",
       "      <td>58285</td>\n",
       "    </tr>\n",
       "    <tr>\n",
       "      <th>3</th>\n",
       "      <td>1534265100</td>\n",
       "      <td>169b447c8b60727820f9b7a3755994e123b2a7c5</td>\n",
       "      <td>Phone</td>\n",
       "      <td>HTC$Other</td>\n",
       "      <td>7535415dde140793e63637086572c4e2d36ba6e5</td>\n",
       "      <td>Android</td>\n",
       "      <td>6</td>\n",
       "      <td>Chrome</td>\n",
       "      <td>DE-NI-DUD</td>\n",
       "      <td>37115</td>\n",
       "    </tr>\n",
       "    <tr>\n",
       "      <th>4</th>\n",
       "      <td>1534265100</td>\n",
       "      <td>169b447c8b60727820f9b7a3755994e123b2a7c5</td>\n",
       "      <td>Phone</td>\n",
       "      <td>HTC$Other</td>\n",
       "      <td>7535415dde140793e63637086572c4e2d36ba6e5</td>\n",
       "      <td>Android</td>\n",
       "      <td>6</td>\n",
       "      <td>Chrome</td>\n",
       "      <td>DE-NI-DUD</td>\n",
       "      <td>37115</td>\n",
       "    </tr>\n",
       "    <tr>\n",
       "      <th>...</th>\n",
       "      <td>...</td>\n",
       "      <td>...</td>\n",
       "      <td>...</td>\n",
       "      <td>...</td>\n",
       "      <td>...</td>\n",
       "      <td>...</td>\n",
       "      <td>...</td>\n",
       "      <td>...</td>\n",
       "      <td>...</td>\n",
       "      <td>...</td>\n",
       "    </tr>\n",
       "    <tr>\n",
       "      <th>26259</th>\n",
       "      <td>1534265999</td>\n",
       "      <td>1aca6233d13bb9e23b0b3b292653eb8bff7486a7</td>\n",
       "      <td>PC</td>\n",
       "      <td>Other$Other</td>\n",
       "      <td>1b34be77c8470ddbb705ca38a43ba4c32e46ef18</td>\n",
       "      <td>Windows</td>\n",
       "      <td>8</td>\n",
       "      <td>Firefox</td>\n",
       "      <td>DE-SN-LEJ</td>\n",
       "      <td>4209</td>\n",
       "    </tr>\n",
       "    <tr>\n",
       "      <th>26260</th>\n",
       "      <td>1534265999</td>\n",
       "      <td>1aca6233d13bb9e23b0b3b292653eb8bff7486a7</td>\n",
       "      <td>PC</td>\n",
       "      <td>Other$Other</td>\n",
       "      <td>1b34be77c8470ddbb705ca38a43ba4c32e46ef18</td>\n",
       "      <td>Windows</td>\n",
       "      <td>8</td>\n",
       "      <td>Firefox</td>\n",
       "      <td>DE-SN-LEJ</td>\n",
       "      <td>4209</td>\n",
       "    </tr>\n",
       "    <tr>\n",
       "      <th>26261</th>\n",
       "      <td>1534265999</td>\n",
       "      <td>1aca6233d13bb9e23b0b3b292653eb8bff7486a7</td>\n",
       "      <td>PC</td>\n",
       "      <td>Other$Other</td>\n",
       "      <td>1b34be77c8470ddbb705ca38a43ba4c32e46ef18</td>\n",
       "      <td>Windows</td>\n",
       "      <td>8</td>\n",
       "      <td>Firefox</td>\n",
       "      <td>DE-SN-LEJ</td>\n",
       "      <td>4209</td>\n",
       "    </tr>\n",
       "    <tr>\n",
       "      <th>26262</th>\n",
       "      <td>1534265999</td>\n",
       "      <td>75e01f11cd4650d8e2221663b18260451e4de6ef</td>\n",
       "      <td>Phone</td>\n",
       "      <td>Samsung$Galaxy</td>\n",
       "      <td>08269cdd472d182bee91485bb998f1618080c9f5</td>\n",
       "      <td>Android</td>\n",
       "      <td>4</td>\n",
       "      <td>Chrome</td>\n",
       "      <td>DE-BE-BER</td>\n",
       "      <td>14193</td>\n",
       "    </tr>\n",
       "    <tr>\n",
       "      <th>26263</th>\n",
       "      <td>1534265999</td>\n",
       "      <td>75e01f11cd4650d8e2221663b18260451e4de6ef</td>\n",
       "      <td>Phone</td>\n",
       "      <td>Samsung$Galaxy</td>\n",
       "      <td>08269cdd472d182bee91485bb998f1618080c9f5</td>\n",
       "      <td>Android</td>\n",
       "      <td>4</td>\n",
       "      <td>Chrome</td>\n",
       "      <td>DE-BE-BER</td>\n",
       "      <td>14193</td>\n",
       "    </tr>\n",
       "  </tbody>\n",
       "</table>\n",
       "<p>26264 rows × 10 columns</p>\n",
       "</div>"
      ],
      "text/plain": [
       "       event_time                                 user_uuid  devicegroup  \\\n",
       "0      1534262899  c7f3d022e57d46ec78d1626a016ecb9281fbe2b2           PC   \n",
       "1      1534265100  b602d594afd2b0b327e07a06f36ca6a7e42546d0           PC   \n",
       "2      1534265100  7ea941558d60dd9025cf9ff65cc4b07a1e586f21  ConnectedTV   \n",
       "3      1534265100  169b447c8b60727820f9b7a3755994e123b2a7c5        Phone   \n",
       "4      1534265100  169b447c8b60727820f9b7a3755994e123b2a7c5        Phone   \n",
       "...           ...                                       ...          ...   \n",
       "26259  1534265999  1aca6233d13bb9e23b0b3b292653eb8bff7486a7           PC   \n",
       "26260  1534265999  1aca6233d13bb9e23b0b3b292653eb8bff7486a7           PC   \n",
       "26261  1534265999  1aca6233d13bb9e23b0b3b292653eb8bff7486a7           PC   \n",
       "26262  1534265999  75e01f11cd4650d8e2221663b18260451e4de6ef        Phone   \n",
       "26263  1534265999  75e01f11cd4650d8e2221663b18260451e4de6ef        Phone   \n",
       "\n",
       "               device                                ip_address os_family  \\\n",
       "0         Other$Other  4523dfed2d55afbd76286861e0b764e08d4695f7   Windows   \n",
       "1         Other$Other  313f8be041b0a4b47127bdc099ffcb9fbe40aca9   Windows   \n",
       "2       Samsung$Other  8169f04e199ced559079f5612b2bd91304bc3e73     Other   \n",
       "3           HTC$Other  7535415dde140793e63637086572c4e2d36ba6e5   Android   \n",
       "4           HTC$Other  7535415dde140793e63637086572c4e2d36ba6e5   Android   \n",
       "...               ...                                       ...       ...   \n",
       "26259     Other$Other  1b34be77c8470ddbb705ca38a43ba4c32e46ef18   Windows   \n",
       "26260     Other$Other  1b34be77c8470ddbb705ca38a43ba4c32e46ef18   Windows   \n",
       "26261     Other$Other  1b34be77c8470ddbb705ca38a43ba4c32e46ef18   Windows   \n",
       "26262  Samsung$Galaxy  08269cdd472d182bee91485bb998f1618080c9f5   Android   \n",
       "26263  Samsung$Galaxy  08269cdd472d182bee91485bb998f1618080c9f5   Android   \n",
       "\n",
       "      os_name browser_name     locode postal_code  \n",
       "0          10      Firefox  DE-BY-POS       92353  \n",
       "1           7       Chrome  DE-ST-MAG       39126  \n",
       "2       Other        Other  DE-NW-GEB       58285  \n",
       "3           6       Chrome  DE-NI-DUD       37115  \n",
       "4           6       Chrome  DE-NI-DUD       37115  \n",
       "...       ...          ...        ...         ...  \n",
       "26259       8      Firefox  DE-SN-LEJ        4209  \n",
       "26260       8      Firefox  DE-SN-LEJ        4209  \n",
       "26261       8      Firefox  DE-SN-LEJ        4209  \n",
       "26262       4       Chrome  DE-BE-BER       14193  \n",
       "26263       4       Chrome  DE-BE-BER       14193  \n",
       "\n",
       "[26264 rows x 10 columns]"
      ]
     },
     "execution_count": 2,
     "metadata": {},
     "output_type": "execute_result"
    }
   ],
   "source": [
    "df = pd.read_csv(\"./data/sample_26000_full_cleansed_anonymized.csv\")\n",
    "df"
   ]
  },
  {
   "cell_type": "code",
   "execution_count": 3,
   "metadata": {},
   "outputs": [
    {
     "name": "stdout",
     "output_type": "stream",
     "text": [
      "<class 'pandas.core.frame.DataFrame'>\n",
      "RangeIndex: 26264 entries, 0 to 26263\n",
      "Data columns (total 10 columns):\n",
      " #   Column        Non-Null Count  Dtype \n",
      "---  ------        --------------  ----- \n",
      " 0   event_time    26264 non-null  int64 \n",
      " 1   user_uuid     26264 non-null  object\n",
      " 2   devicegroup   26264 non-null  object\n",
      " 3   device        26264 non-null  object\n",
      " 4   ip_address    26264 non-null  object\n",
      " 5   os_family     26264 non-null  object\n",
      " 6   os_name       26264 non-null  object\n",
      " 7   browser_name  26264 non-null  object\n",
      " 8   locode        26264 non-null  object\n",
      " 9   postal_code   25136 non-null  object\n",
      "dtypes: int64(1), object(9)\n",
      "memory usage: 2.0+ MB\n"
     ]
    }
   ],
   "source": [
    "df.info()"
   ]
  },
  {
   "cell_type": "code",
   "execution_count": 4,
   "metadata": {},
   "outputs": [
    {
     "data": {
      "text/html": [
       "<div>\n",
       "<style scoped>\n",
       "    .dataframe tbody tr th:only-of-type {\n",
       "        vertical-align: middle;\n",
       "    }\n",
       "\n",
       "    .dataframe tbody tr th {\n",
       "        vertical-align: top;\n",
       "    }\n",
       "\n",
       "    .dataframe thead th {\n",
       "        text-align: right;\n",
       "    }\n",
       "</style>\n",
       "<table border=\"1\" class=\"dataframe\">\n",
       "  <thead>\n",
       "    <tr style=\"text-align: right;\">\n",
       "      <th></th>\n",
       "      <th>event_time</th>\n",
       "    </tr>\n",
       "  </thead>\n",
       "  <tbody>\n",
       "    <tr>\n",
       "      <th>count</th>\n",
       "      <td>2.626400e+04</td>\n",
       "    </tr>\n",
       "    <tr>\n",
       "      <th>mean</th>\n",
       "      <td>1.534265e+09</td>\n",
       "    </tr>\n",
       "    <tr>\n",
       "      <th>std</th>\n",
       "      <td>4.719512e+02</td>\n",
       "    </tr>\n",
       "    <tr>\n",
       "      <th>min</th>\n",
       "      <td>1.534263e+09</td>\n",
       "    </tr>\n",
       "    <tr>\n",
       "      <th>25%</th>\n",
       "      <td>1.534265e+09</td>\n",
       "    </tr>\n",
       "    <tr>\n",
       "      <th>50%</th>\n",
       "      <td>1.534265e+09</td>\n",
       "    </tr>\n",
       "    <tr>\n",
       "      <th>75%</th>\n",
       "      <td>1.534266e+09</td>\n",
       "    </tr>\n",
       "    <tr>\n",
       "      <th>max</th>\n",
       "      <td>1.534266e+09</td>\n",
       "    </tr>\n",
       "  </tbody>\n",
       "</table>\n",
       "</div>"
      ],
      "text/plain": [
       "         event_time\n",
       "count  2.626400e+04\n",
       "mean   1.534265e+09\n",
       "std    4.719512e+02\n",
       "min    1.534263e+09\n",
       "25%    1.534265e+09\n",
       "50%    1.534265e+09\n",
       "75%    1.534266e+09\n",
       "max    1.534266e+09"
      ]
     },
     "execution_count": 4,
     "metadata": {},
     "output_type": "execute_result"
    }
   ],
   "source": [
    "df.describe()"
   ]
  },
  {
   "attachments": {},
   "cell_type": "markdown",
   "metadata": {},
   "source": [
    "# Duplicates"
   ]
  },
  {
   "cell_type": "code",
   "execution_count": 5,
   "metadata": {},
   "outputs": [],
   "source": [
    "df = df.drop_duplicates(keep='first')"
   ]
  },
  {
   "attachments": {},
   "cell_type": "markdown",
   "metadata": {},
   "source": [
    "# Missing data"
   ]
  },
  {
   "cell_type": "code",
   "execution_count": 6,
   "metadata": {},
   "outputs": [
    {
     "data": {
      "text/html": [
       "<div>\n",
       "<style scoped>\n",
       "    .dataframe tbody tr th:only-of-type {\n",
       "        vertical-align: middle;\n",
       "    }\n",
       "\n",
       "    .dataframe tbody tr th {\n",
       "        vertical-align: top;\n",
       "    }\n",
       "\n",
       "    .dataframe thead th {\n",
       "        text-align: right;\n",
       "    }\n",
       "</style>\n",
       "<table border=\"1\" class=\"dataframe\">\n",
       "  <thead>\n",
       "    <tr style=\"text-align: right;\">\n",
       "      <th></th>\n",
       "      <th>N_Missing [-]</th>\n",
       "      <th>Percentage [%]</th>\n",
       "    </tr>\n",
       "  </thead>\n",
       "  <tbody>\n",
       "    <tr>\n",
       "      <th>event_time</th>\n",
       "      <td>0</td>\n",
       "      <td>0.0</td>\n",
       "    </tr>\n",
       "    <tr>\n",
       "      <th>user_uuid</th>\n",
       "      <td>0</td>\n",
       "      <td>0.0</td>\n",
       "    </tr>\n",
       "    <tr>\n",
       "      <th>devicegroup</th>\n",
       "      <td>0</td>\n",
       "      <td>0.0</td>\n",
       "    </tr>\n",
       "    <tr>\n",
       "      <th>device</th>\n",
       "      <td>0</td>\n",
       "      <td>0.0</td>\n",
       "    </tr>\n",
       "    <tr>\n",
       "      <th>ip_address</th>\n",
       "      <td>0</td>\n",
       "      <td>0.0</td>\n",
       "    </tr>\n",
       "    <tr>\n",
       "      <th>os_family</th>\n",
       "      <td>0</td>\n",
       "      <td>0.0</td>\n",
       "    </tr>\n",
       "    <tr>\n",
       "      <th>os_name</th>\n",
       "      <td>0</td>\n",
       "      <td>0.0</td>\n",
       "    </tr>\n",
       "    <tr>\n",
       "      <th>browser_name</th>\n",
       "      <td>0</td>\n",
       "      <td>0.0</td>\n",
       "    </tr>\n",
       "    <tr>\n",
       "      <th>locode</th>\n",
       "      <td>0</td>\n",
       "      <td>0.0</td>\n",
       "    </tr>\n",
       "    <tr>\n",
       "      <th>postal_code</th>\n",
       "      <td>724</td>\n",
       "      <td>5.0</td>\n",
       "    </tr>\n",
       "  </tbody>\n",
       "</table>\n",
       "</div>"
      ],
      "text/plain": [
       "              N_Missing [-]  Percentage [%]\n",
       "event_time                0             0.0\n",
       "user_uuid                 0             0.0\n",
       "devicegroup               0             0.0\n",
       "device                    0             0.0\n",
       "ip_address                0             0.0\n",
       "os_family                 0             0.0\n",
       "os_name                   0             0.0\n",
       "browser_name              0             0.0\n",
       "locode                    0             0.0\n",
       "postal_code             724             5.0"
      ]
     },
     "execution_count": 6,
     "metadata": {},
     "output_type": "execute_result"
    }
   ],
   "source": [
    "missing_dict = dict()\n",
    "\n",
    "# summarize the number of rows with missing values for each column\n",
    "for column in df.columns:\n",
    "    # count number of rows with missing values\n",
    "    n_miss = df[column].isnull().sum()\n",
    "    perc = n_miss / df.shape[0] * 100\n",
    "    # append to dict\n",
    "    missing_dict[column] = [n_miss, perc.round()]\n",
    "\n",
    "missing_df = pd.DataFrame(missing_dict.values(),\n",
    "                          index=missing_dict.keys(),\n",
    "                          columns=['N_Missing [-]', 'Percentage [%]'])\n",
    "missing_df"
   ]
  },
  {
   "attachments": {},
   "cell_type": "markdown",
   "metadata": {},
   "source": [
    "#### Drop the 5% of rows with missing Postal Code"
   ]
  },
  {
   "cell_type": "code",
   "execution_count": 7,
   "metadata": {},
   "outputs": [],
   "source": [
    "df = df.dropna(how='any')"
   ]
  },
  {
   "cell_type": "markdown",
   "metadata": {},
   "source": [
    "# Inspect the columns"
   ]
  },
  {
   "cell_type": "markdown",
   "metadata": {},
   "source": [
    "#### Event Time"
   ]
  },
  {
   "cell_type": "code",
   "execution_count": 8,
   "metadata": {},
   "outputs": [
    {
     "data": {
      "text/plain": [
       "<AxesSubplot: xlabel='event_time', ylabel='Count'>"
      ]
     },
     "execution_count": 8,
     "metadata": {},
     "output_type": "execute_result"
    },
    {
     "data": {
      "image/png": "[encoded data removed]",
      "text/plain": [
       "<Figure size 640x480 with 1 Axes>"
      ]
     },
     "metadata": {},
     "output_type": "display_data"
    }
   ],
   "source": [
    "sns.histplot(df.event_time)"
   ]
  },
  {
   "cell_type": "markdown",
   "metadata": {},
   "source": [
    "### Rows for a particular timestamp"
   ]
  },
  {
   "cell_type": "code",
   "execution_count": 9,
   "metadata": {},
   "outputs": [
    {
     "data": {
      "text/plain": [
       "1534265795    28\n",
       "1534265672    28\n",
       "1534265676    27\n",
       "1534265697    27\n",
       "1534265858    27\n",
       "              ..\n",
       "1534264480     1\n",
       "1534264482     1\n",
       "1534264485     1\n",
       "1534264486     1\n",
       "1534262899     1\n",
       "Name: event_time, Length: 1783, dtype: int64"
      ]
     },
     "execution_count": 9,
     "metadata": {},
     "output_type": "execute_result"
    }
   ],
   "source": [
    "df.event_time.value_counts()"
   ]
  },
  {
   "cell_type": "code",
   "execution_count": 10,
   "metadata": {},
   "outputs": [
    {
     "data": {
      "text/plain": [
       "0        1534262899\n",
       "12735    1534264200\n",
       "12732    1534264200\n",
       "12739    1534264201\n",
       "12742    1534264201\n",
       "            ...    \n",
       "6403     1534265999\n",
       "26254    1534265999\n",
       "26255    1534265999\n",
       "26258    1534265999\n",
       "26262    1534265999\n",
       "Name: event_time, Length: 14698, dtype: int64"
      ]
     },
     "execution_count": 10,
     "metadata": {},
     "output_type": "execute_result"
    }
   ],
   "source": [
    "df.event_time.sort_values(ascending=True)"
   ]
  },
  {
   "attachments": {},
   "cell_type": "markdown",
   "metadata": {},
   "source": [
    "#### User UU ID\n",
    "Unique identifier (cookie_id) of device. Can be reset by user and will be given anew upon next request"
   ]
  },
  {
   "cell_type": "code",
   "execution_count": 11,
   "metadata": {},
   "outputs": [
    {
     "data": {
      "text/plain": [
       "b602d594afd2b0b327e07a06f36ca6a7e42546d0    3638\n",
       "ea48b29e05da74493d397da3ac7533708e8790fd     104\n",
       "174040068c20ff3e16f0f6a16dd36371f2a87d1d      22\n",
       "5aedcb83537404da8cf8997bfcdbf1ab789606c1       7\n",
       "dbe532627eefa16fc7b487615f4555537bc5058b       6\n",
       "                                            ... \n",
       "282d336b0bdcbb7e7bde119fa531af3eace39c98       1\n",
       "cedc342956326c76f53089f1739f516f429617e4       1\n",
       "8017beb7c327693b47e5f4c0c240923c6f6089bb       1\n",
       "9f059beea9ebc9dbcb3ab222225dcd6d46d95dc2       1\n",
       "2c46e42d1679d27e8bac310f0e82f51f4d68deb0       1\n",
       "Name: user_uuid, Length: 10594, dtype: int64"
      ]
     },
     "execution_count": 11,
     "metadata": {},
     "output_type": "execute_result"
    }
   ],
   "source": [
    "df.user_uuid.value_counts()"
   ]
  },
  {
   "cell_type": "markdown",
   "metadata": {},
   "source": [
    "#### Device group"
   ]
  },
  {
   "cell_type": "code",
   "execution_count": 12,
   "metadata": {},
   "outputs": [
    {
     "data": {
      "text/plain": [
       "PC                 5139\n",
       "ConnectedTV        4580\n",
       "Phone              4034\n",
       "Tablet              889\n",
       "ConnectedDevice      38\n",
       "SetTopBox            18\n",
       "Name: devicegroup, dtype: int64"
      ]
     },
     "execution_count": 12,
     "metadata": {},
     "output_type": "execute_result"
    }
   ],
   "source": [
    "df.devicegroup.value_counts()"
   ]
  },
  {
   "cell_type": "markdown",
   "metadata": {},
   "source": [
    "#### Device"
   ]
  },
  {
   "cell_type": "code",
   "execution_count": 13,
   "metadata": {},
   "outputs": [
    {
     "data": {
      "text/plain": [
       "Other$Other         5699\n",
       "Samsung$Other       3357\n",
       "Apple$iPhone        1169\n",
       "Apple$iPad           841\n",
       "Apple$Other          782\n",
       "Panasonic$Other      722\n",
       "LG$Other             531\n",
       "Sony$Other           475\n",
       "Philips$Other        280\n",
       "Telefunken$Other     136\n",
       "Huawei$Other         122\n",
       "Samsung$Galaxy        81\n",
       "Technisat$Other       65\n",
       "Loewe$Other           59\n",
       "Aldi$Other            56\n",
       "Motorola$Moto         49\n",
       "Toshiba$Other         46\n",
       "HTC$Other             44\n",
       "Amazon$Kindle         37\n",
       "Hisense$Other         36\n",
       "Lenovo$Other          33\n",
       "ZTE$Other             19\n",
       "Microsoft$Xbox        15\n",
       "Other$Nexus            7\n",
       "Microsoft$Lumia        6\n",
       "Vodafone$Other         5\n",
       "RIM$Other              5\n",
       "JVC$Other              5\n",
       "Nokia$Other            3\n",
       "Asus$Other             3\n",
       "Kendo$Other            3\n",
       "Sony$PlayStation       2\n",
       "Nokia$Lumia            2\n",
       "HP$Other               1\n",
       "Apple$iPod             1\n",
       "Nintendo$Wii           1\n",
       "Name: device, dtype: int64"
      ]
     },
     "execution_count": 13,
     "metadata": {},
     "output_type": "execute_result"
    }
   ],
   "source": [
    "df.device.value_counts()"
   ]
  },
  {
   "attachments": {},
   "cell_type": "markdown",
   "metadata": {},
   "source": [
    "#### IP Address\n",
    "Hash of ip address of device (hashed because of privacy reasons)"
   ]
  },
  {
   "cell_type": "code",
   "execution_count": 14,
   "metadata": {},
   "outputs": [
    {
     "data": {
      "text/plain": [
       "bf96134a2a35c14daf084af58efebb0f09854ebb    15\n",
       "e897fcc02df496db4a033ce1b792d631dc9f9ef7    11\n",
       "4ec89b1190cda1c4088f6ccd8aaadd5aa287b7f7     8\n",
       "b174258bb37b69c7fb427195b3f8c9dd9255af27     7\n",
       "7a70ac711609e52ab12f64ce03a877a8d2e4b947     7\n",
       "                                            ..\n",
       "6d751a97e9497b5eb0ca7d2b15451a697b56d97e     1\n",
       "947f569fe259e3300ae1d1e0e26ec8641d0d9fc7     1\n",
       "54587e1ed205efaf0933f1b72446220b496e34ce     1\n",
       "f9650fb82e7f3c029fc884851e6dd0da422e6deb     1\n",
       "92dc8cc1cc07e831af0734eba1af6150968410d3     1\n",
       "Name: ip_address, Length: 13775, dtype: int64"
      ]
     },
     "execution_count": 14,
     "metadata": {},
     "output_type": "execute_result"
    }
   ],
   "source": [
    "df.ip_address.value_counts()"
   ]
  },
  {
   "cell_type": "markdown",
   "metadata": {},
   "source": [
    "#### OS Family"
   ]
  },
  {
   "cell_type": "code",
   "execution_count": 15,
   "metadata": {},
   "outputs": [
    {
     "data": {
      "text/plain": [
       "Windows     4198\n",
       "Android     2929\n",
       "Other       2729\n",
       "iOS         2016\n",
       "Linux       1842\n",
       "macOS        777\n",
       "WebOS        202\n",
       "ChromeOs       5\n",
       "Name: os_family, dtype: int64"
      ]
     },
     "execution_count": 15,
     "metadata": {},
     "output_type": "execute_result"
    }
   ],
   "source": [
    "df.os_family.value_counts()"
   ]
  },
  {
   "cell_type": "markdown",
   "metadata": {},
   "source": [
    "#### OS name"
   ]
  },
  {
   "cell_type": "code",
   "execution_count": 16,
   "metadata": {},
   "outputs": [
    {
     "data": {
      "text/plain": [
       "Other        5036\n",
       "10           2744\n",
       "7            2081\n",
       "11           1580\n",
       "8            1442\n",
       "10.13         453\n",
       "5             423\n",
       "6             386\n",
       "4             154\n",
       "10.11         123\n",
       "9              98\n",
       "10.12          95\n",
       "10.10          61\n",
       "12              7\n",
       "10 Mobile       5\n",
       "Phone 8         5\n",
       "10.14           5\n",
       "Name: os_name, dtype: int64"
      ]
     },
     "execution_count": 16,
     "metadata": {},
     "output_type": "execute_result"
    }
   ],
   "source": [
    "df.os_name.value_counts()"
   ]
  },
  {
   "cell_type": "markdown",
   "metadata": {},
   "source": [
    "#### Browser name"
   ]
  },
  {
   "cell_type": "code",
   "execution_count": 17,
   "metadata": {},
   "outputs": [
    {
     "data": {
      "text/plain": [
       "Chrome     4631\n",
       "Other      3315\n",
       "Safari     2467\n",
       "Firefox    2162\n",
       "Opera      1325\n",
       "Edge        488\n",
       "MSIE        295\n",
       "Vivaldi      15\n",
       "Name: browser_name, dtype: int64"
      ]
     },
     "execution_count": 17,
     "metadata": {},
     "output_type": "execute_result"
    }
   ],
   "source": [
    "df.browser_name.value_counts()"
   ]
  },
  {
   "cell_type": "markdown",
   "metadata": {},
   "source": [
    "#### Locode"
   ]
  },
  {
   "cell_type": "code",
   "execution_count": 18,
   "metadata": {},
   "outputs": [
    {
     "data": {
      "text/plain": [
       "DE-BE-BER    857\n",
       "DE-HH-HAM    681\n",
       "DE-BY-MUC    478\n",
       "DE-NW-CGN    378\n",
       "DE-HE-FRA    309\n",
       "            ... \n",
       "LT-16-KUN      1\n",
       "DE-RP-WYH      1\n",
       "DE-BY-ATP      1\n",
       "DE-BY-FDP      1\n",
       "DK-82-LVG      1\n",
       "Name: locode, Length: 2535, dtype: int64"
      ]
     },
     "execution_count": 18,
     "metadata": {},
     "output_type": "execute_result"
    }
   ],
   "source": [
    "df.locode.value_counts()"
   ]
  },
  {
   "cell_type": "markdown",
   "metadata": {},
   "source": [
    "#### Postal code"
   ]
  },
  {
   "cell_type": "code",
   "execution_count": 19,
   "metadata": {},
   "outputs": [
    {
     "data": {
      "text/plain": [
       "12529    309\n",
       "20095    284\n",
       "70173    148\n",
       "80796     97\n",
       "50676     82\n",
       "        ... \n",
       "36115      1\n",
       "45879      1\n",
       "32479      1\n",
       "6845       1\n",
       "7620       1\n",
       "Name: postal_code, Length: 3969, dtype: int64"
      ]
     },
     "execution_count": 19,
     "metadata": {},
     "output_type": "execute_result"
    }
   ],
   "source": [
    "df.postal_code.value_counts()"
   ]
  },
  {
   "attachments": {},
   "cell_type": "markdown",
   "metadata": {},
   "source": [
    "# The same devices search\n",
    "Two devices are considered \"in the same household\" if their user_uuid are different (two separate devices) but their ip address \n",
    "overlap at some point (both devices used behind same router)."
   ]
  },
  {
   "cell_type": "code",
   "execution_count": 20,
   "metadata": {},
   "outputs": [],
   "source": [
    "grp = df.groupby('ip_address')"
   ]
  },
  {
   "cell_type": "markdown",
   "metadata": {},
   "source": [
    "#### The same household devices"
   ]
  },
  {
   "cell_type": "code",
   "execution_count": 21,
   "metadata": {},
   "outputs": [
    {
     "data": {
      "text/plain": [
       "ip_address\n",
       "bf96134a2a35c14daf084af58efebb0f09854ebb    15\n",
       "e897fcc02df496db4a033ce1b792d631dc9f9ef7    11\n",
       "4ec89b1190cda1c4088f6ccd8aaadd5aa287b7f7     8\n",
       "b174258bb37b69c7fb427195b3f8c9dd9255af27     7\n",
       "7a70ac711609e52ab12f64ce03a877a8d2e4b947     7\n",
       "                                            ..\n",
       "012b29b34a35f95cd7f1be458e610b997ff4ac7f     2\n",
       "f943d78970f7e0936ab559e9726d7581c3360b9a     2\n",
       "043945dd0beeec9a67aa6f11af3a049662baf513     2\n",
       "f4a21d03bad110d0c98a75fb9d3b6c4df578310e     2\n",
       "021d6801d8963e6055c294fe583aeb8348ead8cf     2\n",
       "Length: 707, dtype: int64"
      ]
     },
     "execution_count": 21,
     "metadata": {},
     "output_type": "execute_result"
    }
   ],
   "source": [
    "ip_addresses = grp.size().sort_values(ascending=False)\n",
    "ip_addresses = ip_addresses[ip_addresses > 1]\n",
    "ip_addresses"
   ]
  },
  {
   "cell_type": "markdown",
   "metadata": {},
   "source": [
    "# Minimum 2 devices per IP Address"
   ]
  },
  {
   "cell_type": "code",
   "execution_count": 24,
   "metadata": {},
   "outputs": [
    {
     "data": {
      "text/html": [
       "<div>\n",
       "<style scoped>\n",
       "    .dataframe tbody tr th:only-of-type {\n",
       "        vertical-align: middle;\n",
       "    }\n",
       "\n",
       "    .dataframe tbody tr th {\n",
       "        vertical-align: top;\n",
       "    }\n",
       "\n",
       "    .dataframe thead th {\n",
       "        text-align: right;\n",
       "    }\n",
       "</style>\n",
       "<table border=\"1\" class=\"dataframe\">\n",
       "  <thead>\n",
       "    <tr style=\"text-align: right;\">\n",
       "      <th></th>\n",
       "      <th>event_time</th>\n",
       "      <th>user_uuid</th>\n",
       "      <th>devicegroup</th>\n",
       "      <th>device</th>\n",
       "      <th>ip_address</th>\n",
       "      <th>os_family</th>\n",
       "      <th>os_name</th>\n",
       "      <th>browser_name</th>\n",
       "      <th>locode</th>\n",
       "      <th>postal_code</th>\n",
       "    </tr>\n",
       "  </thead>\n",
       "  <tbody>\n",
       "    <tr>\n",
       "      <th>0</th>\n",
       "      <td>1534265106</td>\n",
       "      <td>afee5ef312a03b7a70f7e34fa29574e17ae43dec</td>\n",
       "      <td>Phone</td>\n",
       "      <td>Lenovo$Other</td>\n",
       "      <td>d585cb84daba01707fd4d15f180027f78ef3bc44</td>\n",
       "      <td>Android</td>\n",
       "      <td>7</td>\n",
       "      <td>Chrome</td>\n",
       "      <td>DE-BY-SLF</td>\n",
       "      <td>96129</td>\n",
       "    </tr>\n",
       "    <tr>\n",
       "      <th>1</th>\n",
       "      <td>1534265113</td>\n",
       "      <td>b602d594afd2b0b327e07a06f36ca6a7e42546d0</td>\n",
       "      <td>PC</td>\n",
       "      <td>Other$Other</td>\n",
       "      <td>885d26b2ff1e818aa562419298f275d93019ad78</td>\n",
       "      <td>Windows</td>\n",
       "      <td>10</td>\n",
       "      <td>Firefox</td>\n",
       "      <td>DE-NW-ARN</td>\n",
       "      <td>59755</td>\n",
       "    </tr>\n",
       "    <tr>\n",
       "      <th>2</th>\n",
       "      <td>1534265113</td>\n",
       "      <td>b602d594afd2b0b327e07a06f36ca6a7e42546d0</td>\n",
       "      <td>Phone</td>\n",
       "      <td>Samsung$Other</td>\n",
       "      <td>d15ae2efef5cab94b5523ff5ee864bf886365d64</td>\n",
       "      <td>Android</td>\n",
       "      <td>7</td>\n",
       "      <td>Chrome</td>\n",
       "      <td>AT-6-GNA</td>\n",
       "      <td>8342</td>\n",
       "    </tr>\n",
       "    <tr>\n",
       "      <th>3</th>\n",
       "      <td>1534265115</td>\n",
       "      <td>d67af774a66613c02030629531b648fb42e36b0c</td>\n",
       "      <td>PC</td>\n",
       "      <td>Other$Other</td>\n",
       "      <td>fe5fc0297a17649db145b9ae7c4c7f15e5a1ed7d</td>\n",
       "      <td>Windows</td>\n",
       "      <td>7</td>\n",
       "      <td>Chrome</td>\n",
       "      <td>DE-BY-ZFJ</td>\n",
       "      <td>94161</td>\n",
       "    </tr>\n",
       "    <tr>\n",
       "      <th>4</th>\n",
       "      <td>1534265117</td>\n",
       "      <td>b602d594afd2b0b327e07a06f36ca6a7e42546d0</td>\n",
       "      <td>PC</td>\n",
       "      <td>Other$Other</td>\n",
       "      <td>e3504d6dc735e8d77b76cfe8a633d7f6158d37fd</td>\n",
       "      <td>Windows</td>\n",
       "      <td>10</td>\n",
       "      <td>Chrome</td>\n",
       "      <td>DE-NW-ESS</td>\n",
       "      <td>45128</td>\n",
       "    </tr>\n",
       "    <tr>\n",
       "      <th>...</th>\n",
       "      <td>...</td>\n",
       "      <td>...</td>\n",
       "      <td>...</td>\n",
       "      <td>...</td>\n",
       "      <td>...</td>\n",
       "      <td>...</td>\n",
       "      <td>...</td>\n",
       "      <td>...</td>\n",
       "      <td>...</td>\n",
       "      <td>...</td>\n",
       "    </tr>\n",
       "    <tr>\n",
       "      <th>1625</th>\n",
       "      <td>1534265984</td>\n",
       "      <td>b602d594afd2b0b327e07a06f36ca6a7e42546d0</td>\n",
       "      <td>PC</td>\n",
       "      <td>Other$Other</td>\n",
       "      <td>4ec89b1190cda1c4088f6ccd8aaadd5aa287b7f7</td>\n",
       "      <td>Windows</td>\n",
       "      <td>10</td>\n",
       "      <td>Vivaldi</td>\n",
       "      <td>DE-NI-HAJ</td>\n",
       "      <td>30161</td>\n",
       "    </tr>\n",
       "    <tr>\n",
       "      <th>1626</th>\n",
       "      <td>1534265988</td>\n",
       "      <td>b602d594afd2b0b327e07a06f36ca6a7e42546d0</td>\n",
       "      <td>PC</td>\n",
       "      <td>Apple$Other</td>\n",
       "      <td>a4c32908aa3a19576dca10b1a584d270ddc84418</td>\n",
       "      <td>macOS</td>\n",
       "      <td>10.13</td>\n",
       "      <td>Chrome</td>\n",
       "      <td>DE-HE-FRA</td>\n",
       "      <td>60596</td>\n",
       "    </tr>\n",
       "    <tr>\n",
       "      <th>1627</th>\n",
       "      <td>1534265997</td>\n",
       "      <td>b602d594afd2b0b327e07a06f36ca6a7e42546d0</td>\n",
       "      <td>ConnectedTV</td>\n",
       "      <td>Samsung$Other</td>\n",
       "      <td>9939bd967c98ca5bb775946f0eb4bb5034c6642e</td>\n",
       "      <td>Other</td>\n",
       "      <td>Other</td>\n",
       "      <td>Other</td>\n",
       "      <td>DE-BW-FBG</td>\n",
       "      <td>79106</td>\n",
       "    </tr>\n",
       "    <tr>\n",
       "      <th>1628</th>\n",
       "      <td>1534265999</td>\n",
       "      <td>1aca6233d13bb9e23b0b3b292653eb8bff7486a7</td>\n",
       "      <td>PC</td>\n",
       "      <td>Other$Other</td>\n",
       "      <td>1b34be77c8470ddbb705ca38a43ba4c32e46ef18</td>\n",
       "      <td>Windows</td>\n",
       "      <td>8</td>\n",
       "      <td>Firefox</td>\n",
       "      <td>DE-SN-LEJ</td>\n",
       "      <td>4209</td>\n",
       "    </tr>\n",
       "    <tr>\n",
       "      <th>1629</th>\n",
       "      <td>1534265999</td>\n",
       "      <td>75e01f11cd4650d8e2221663b18260451e4de6ef</td>\n",
       "      <td>Phone</td>\n",
       "      <td>Samsung$Galaxy</td>\n",
       "      <td>08269cdd472d182bee91485bb998f1618080c9f5</td>\n",
       "      <td>Android</td>\n",
       "      <td>4</td>\n",
       "      <td>Chrome</td>\n",
       "      <td>DE-BE-BER</td>\n",
       "      <td>14193</td>\n",
       "    </tr>\n",
       "  </tbody>\n",
       "</table>\n",
       "<p>1630 rows × 10 columns</p>\n",
       "</div>"
      ],
      "text/plain": [
       "      event_time                                 user_uuid  devicegroup  \\\n",
       "0     1534265106  afee5ef312a03b7a70f7e34fa29574e17ae43dec        Phone   \n",
       "1     1534265113  b602d594afd2b0b327e07a06f36ca6a7e42546d0           PC   \n",
       "2     1534265113  b602d594afd2b0b327e07a06f36ca6a7e42546d0        Phone   \n",
       "3     1534265115  d67af774a66613c02030629531b648fb42e36b0c           PC   \n",
       "4     1534265117  b602d594afd2b0b327e07a06f36ca6a7e42546d0           PC   \n",
       "...          ...                                       ...          ...   \n",
       "1625  1534265984  b602d594afd2b0b327e07a06f36ca6a7e42546d0           PC   \n",
       "1626  1534265988  b602d594afd2b0b327e07a06f36ca6a7e42546d0           PC   \n",
       "1627  1534265997  b602d594afd2b0b327e07a06f36ca6a7e42546d0  ConnectedTV   \n",
       "1628  1534265999  1aca6233d13bb9e23b0b3b292653eb8bff7486a7           PC   \n",
       "1629  1534265999  75e01f11cd4650d8e2221663b18260451e4de6ef        Phone   \n",
       "\n",
       "              device                                ip_address os_family  \\\n",
       "0       Lenovo$Other  d585cb84daba01707fd4d15f180027f78ef3bc44   Android   \n",
       "1        Other$Other  885d26b2ff1e818aa562419298f275d93019ad78   Windows   \n",
       "2      Samsung$Other  d15ae2efef5cab94b5523ff5ee864bf886365d64   Android   \n",
       "3        Other$Other  fe5fc0297a17649db145b9ae7c4c7f15e5a1ed7d   Windows   \n",
       "4        Other$Other  e3504d6dc735e8d77b76cfe8a633d7f6158d37fd   Windows   \n",
       "...              ...                                       ...       ...   \n",
       "1625     Other$Other  4ec89b1190cda1c4088f6ccd8aaadd5aa287b7f7   Windows   \n",
       "1626     Apple$Other  a4c32908aa3a19576dca10b1a584d270ddc84418     macOS   \n",
       "1627   Samsung$Other  9939bd967c98ca5bb775946f0eb4bb5034c6642e     Other   \n",
       "1628     Other$Other  1b34be77c8470ddbb705ca38a43ba4c32e46ef18   Windows   \n",
       "1629  Samsung$Galaxy  08269cdd472d182bee91485bb998f1618080c9f5   Android   \n",
       "\n",
       "     os_name browser_name     locode postal_code  \n",
       "0          7       Chrome  DE-BY-SLF       96129  \n",
       "1         10      Firefox  DE-NW-ARN       59755  \n",
       "2          7       Chrome   AT-6-GNA        8342  \n",
       "3          7       Chrome  DE-BY-ZFJ       94161  \n",
       "4         10       Chrome  DE-NW-ESS       45128  \n",
       "...      ...          ...        ...         ...  \n",
       "1625      10      Vivaldi  DE-NI-HAJ       30161  \n",
       "1626   10.13       Chrome  DE-HE-FRA       60596  \n",
       "1627   Other        Other  DE-BW-FBG       79106  \n",
       "1628       8      Firefox  DE-SN-LEJ        4209  \n",
       "1629       4       Chrome  DE-BE-BER       14193  \n",
       "\n",
       "[1630 rows x 10 columns]"
      ]
     },
     "execution_count": 24,
     "metadata": {},
     "output_type": "execute_result"
    }
   ],
   "source": [
    "df = df[df[\"ip_address\"].isin(ip_addresses.index)].reset_index(drop=True)\n",
    "df"
   ]
  },
  {
   "cell_type": "markdown",
   "metadata": {},
   "source": [
    "# Multi-index "
   ]
  },
  {
   "cell_type": "code",
   "execution_count": 23,
   "metadata": {},
   "outputs": [
    {
     "data": {
      "text/html": [
       "<div>\n",
       "<style scoped>\n",
       "    .dataframe tbody tr th:only-of-type {\n",
       "        vertical-align: middle;\n",
       "    }\n",
       "\n",
       "    .dataframe tbody tr th {\n",
       "        vertical-align: top;\n",
       "    }\n",
       "\n",
       "    .dataframe thead th {\n",
       "        text-align: right;\n",
       "    }\n",
       "</style>\n",
       "<table border=\"1\" class=\"dataframe\">\n",
       "  <thead>\n",
       "    <tr style=\"text-align: right;\">\n",
       "      <th></th>\n",
       "      <th></th>\n",
       "      <th>event_time</th>\n",
       "      <th>devicegroup</th>\n",
       "      <th>device</th>\n",
       "      <th>os_family</th>\n",
       "      <th>os_name</th>\n",
       "      <th>browser_name</th>\n",
       "      <th>locode</th>\n",
       "      <th>postal_code</th>\n",
       "    </tr>\n",
       "    <tr>\n",
       "      <th>ip_address</th>\n",
       "      <th>user_uuid</th>\n",
       "      <th></th>\n",
       "      <th></th>\n",
       "      <th></th>\n",
       "      <th></th>\n",
       "      <th></th>\n",
       "      <th></th>\n",
       "      <th></th>\n",
       "      <th></th>\n",
       "    </tr>\n",
       "  </thead>\n",
       "  <tbody>\n",
       "    <tr>\n",
       "      <th rowspan=\"2\" valign=\"top\">00058790b2925c17d845962e6578ec114475d840</th>\n",
       "      <th>b602d594afd2b0b327e07a06f36ca6a7e42546d0</th>\n",
       "      <td>1534265163</td>\n",
       "      <td>PC</td>\n",
       "      <td>Other$Other</td>\n",
       "      <td>Windows</td>\n",
       "      <td>8</td>\n",
       "      <td>Firefox</td>\n",
       "      <td>DE-BY-EET</td>\n",
       "      <td>91315</td>\n",
       "    </tr>\n",
       "    <tr>\n",
       "      <th>b602d594afd2b0b327e07a06f36ca6a7e42546d0</th>\n",
       "      <td>1534265306</td>\n",
       "      <td>PC</td>\n",
       "      <td>Other$Other</td>\n",
       "      <td>Windows</td>\n",
       "      <td>8</td>\n",
       "      <td>Firefox</td>\n",
       "      <td>DE-BY-EET</td>\n",
       "      <td>91315</td>\n",
       "    </tr>\n",
       "    <tr>\n",
       "      <th rowspan=\"3\" valign=\"top\">0019fa41739b4717b75f19cebe93001cf3153de2</th>\n",
       "      <th>b602d594afd2b0b327e07a06f36ca6a7e42546d0</th>\n",
       "      <td>1534265154</td>\n",
       "      <td>PC</td>\n",
       "      <td>Other$Other</td>\n",
       "      <td>Windows</td>\n",
       "      <td>10</td>\n",
       "      <td>Chrome</td>\n",
       "      <td>DE-BW-BAB</td>\n",
       "      <td>76532</td>\n",
       "    </tr>\n",
       "    <tr>\n",
       "      <th>b602d594afd2b0b327e07a06f36ca6a7e42546d0</th>\n",
       "      <td>1534265519</td>\n",
       "      <td>PC</td>\n",
       "      <td>Other$Other</td>\n",
       "      <td>Windows</td>\n",
       "      <td>10</td>\n",
       "      <td>Chrome</td>\n",
       "      <td>DE-BW-BAB</td>\n",
       "      <td>76532</td>\n",
       "    </tr>\n",
       "    <tr>\n",
       "      <th>b602d594afd2b0b327e07a06f36ca6a7e42546d0</th>\n",
       "      <td>1534265731</td>\n",
       "      <td>PC</td>\n",
       "      <td>Other$Other</td>\n",
       "      <td>Windows</td>\n",
       "      <td>10</td>\n",
       "      <td>Chrome</td>\n",
       "      <td>DE-BW-BAB</td>\n",
       "      <td>76532</td>\n",
       "    </tr>\n",
       "    <tr>\n",
       "      <th>...</th>\n",
       "      <th>...</th>\n",
       "      <td>...</td>\n",
       "      <td>...</td>\n",
       "      <td>...</td>\n",
       "      <td>...</td>\n",
       "      <td>...</td>\n",
       "      <td>...</td>\n",
       "      <td>...</td>\n",
       "      <td>...</td>\n",
       "    </tr>\n",
       "    <tr>\n",
       "      <th>ffa35bfe2cf2465197d6171f249ab5fe6076c530</th>\n",
       "      <th>3c97e8508791ad263e14ed435191ddf873427741</th>\n",
       "      <td>1534265734</td>\n",
       "      <td>Phone</td>\n",
       "      <td>Apple$iPhone</td>\n",
       "      <td>iOS</td>\n",
       "      <td>11</td>\n",
       "      <td>Safari</td>\n",
       "      <td>DE-NW-LUE</td>\n",
       "      <td>44532</td>\n",
       "    </tr>\n",
       "    <tr>\n",
       "      <th rowspan=\"2\" valign=\"top\">ffb9ac57a3a48c19c55c9e53bbe7972da9d48f77</th>\n",
       "      <th>9d433adb876c31646ae067b2c524d0ffbbff2c5b</th>\n",
       "      <td>1534265196</td>\n",
       "      <td>ConnectedTV</td>\n",
       "      <td>Samsung$Other</td>\n",
       "      <td>Other</td>\n",
       "      <td>Other</td>\n",
       "      <td>Other</td>\n",
       "      <td>DE-HH-HAM</td>\n",
       "      <td>20099</td>\n",
       "    </tr>\n",
       "    <tr>\n",
       "      <th>9d433adb876c31646ae067b2c524d0ffbbff2c5b</th>\n",
       "      <td>1534265222</td>\n",
       "      <td>ConnectedTV</td>\n",
       "      <td>Samsung$Other</td>\n",
       "      <td>Other</td>\n",
       "      <td>Other</td>\n",
       "      <td>Other</td>\n",
       "      <td>DE-HH-HAM</td>\n",
       "      <td>20099</td>\n",
       "    </tr>\n",
       "    <tr>\n",
       "      <th rowspan=\"2\" valign=\"top\">ffcfce8288a96a3120347fdc830685a24e4ec60c</th>\n",
       "      <th>13a55167913dd2906ab086d25dc384e82b9f6b06</th>\n",
       "      <td>1534264792</td>\n",
       "      <td>PC</td>\n",
       "      <td>Other$Other</td>\n",
       "      <td>Windows</td>\n",
       "      <td>10</td>\n",
       "      <td>Chrome</td>\n",
       "      <td>DE-NW-CGN</td>\n",
       "      <td>50676</td>\n",
       "    </tr>\n",
       "    <tr>\n",
       "      <th>13a55167913dd2906ab086d25dc384e82b9f6b06</th>\n",
       "      <td>1534265975</td>\n",
       "      <td>PC</td>\n",
       "      <td>Other$Other</td>\n",
       "      <td>Windows</td>\n",
       "      <td>10</td>\n",
       "      <td>Chrome</td>\n",
       "      <td>DE-NW-CGN</td>\n",
       "      <td>50676</td>\n",
       "    </tr>\n",
       "  </tbody>\n",
       "</table>\n",
       "<p>1630 rows × 8 columns</p>\n",
       "</div>"
      ],
      "text/plain": [
       "                                                                                   event_time  \\\n",
       "ip_address                               user_uuid                                              \n",
       "00058790b2925c17d845962e6578ec114475d840 b602d594afd2b0b327e07a06f36ca6a7e42546d0  1534265163   \n",
       "                                         b602d594afd2b0b327e07a06f36ca6a7e42546d0  1534265306   \n",
       "0019fa41739b4717b75f19cebe93001cf3153de2 b602d594afd2b0b327e07a06f36ca6a7e42546d0  1534265154   \n",
       "                                         b602d594afd2b0b327e07a06f36ca6a7e42546d0  1534265519   \n",
       "                                         b602d594afd2b0b327e07a06f36ca6a7e42546d0  1534265731   \n",
       "...                                                                                       ...   \n",
       "ffa35bfe2cf2465197d6171f249ab5fe6076c530 3c97e8508791ad263e14ed435191ddf873427741  1534265734   \n",
       "ffb9ac57a3a48c19c55c9e53bbe7972da9d48f77 9d433adb876c31646ae067b2c524d0ffbbff2c5b  1534265196   \n",
       "                                         9d433adb876c31646ae067b2c524d0ffbbff2c5b  1534265222   \n",
       "ffcfce8288a96a3120347fdc830685a24e4ec60c 13a55167913dd2906ab086d25dc384e82b9f6b06  1534264792   \n",
       "                                         13a55167913dd2906ab086d25dc384e82b9f6b06  1534265975   \n",
       "\n",
       "                                                                                   devicegroup  \\\n",
       "ip_address                               user_uuid                                               \n",
       "00058790b2925c17d845962e6578ec114475d840 b602d594afd2b0b327e07a06f36ca6a7e42546d0           PC   \n",
       "                                         b602d594afd2b0b327e07a06f36ca6a7e42546d0           PC   \n",
       "0019fa41739b4717b75f19cebe93001cf3153de2 b602d594afd2b0b327e07a06f36ca6a7e42546d0           PC   \n",
       "                                         b602d594afd2b0b327e07a06f36ca6a7e42546d0           PC   \n",
       "                                         b602d594afd2b0b327e07a06f36ca6a7e42546d0           PC   \n",
       "...                                                                                        ...   \n",
       "ffa35bfe2cf2465197d6171f249ab5fe6076c530 3c97e8508791ad263e14ed435191ddf873427741        Phone   \n",
       "ffb9ac57a3a48c19c55c9e53bbe7972da9d48f77 9d433adb876c31646ae067b2c524d0ffbbff2c5b  ConnectedTV   \n",
       "                                         9d433adb876c31646ae067b2c524d0ffbbff2c5b  ConnectedTV   \n",
       "ffcfce8288a96a3120347fdc830685a24e4ec60c 13a55167913dd2906ab086d25dc384e82b9f6b06           PC   \n",
       "                                         13a55167913dd2906ab086d25dc384e82b9f6b06           PC   \n",
       "\n",
       "                                                                                          device  \\\n",
       "ip_address                               user_uuid                                                 \n",
       "00058790b2925c17d845962e6578ec114475d840 b602d594afd2b0b327e07a06f36ca6a7e42546d0    Other$Other   \n",
       "                                         b602d594afd2b0b327e07a06f36ca6a7e42546d0    Other$Other   \n",
       "0019fa41739b4717b75f19cebe93001cf3153de2 b602d594afd2b0b327e07a06f36ca6a7e42546d0    Other$Other   \n",
       "                                         b602d594afd2b0b327e07a06f36ca6a7e42546d0    Other$Other   \n",
       "                                         b602d594afd2b0b327e07a06f36ca6a7e42546d0    Other$Other   \n",
       "...                                                                                          ...   \n",
       "ffa35bfe2cf2465197d6171f249ab5fe6076c530 3c97e8508791ad263e14ed435191ddf873427741   Apple$iPhone   \n",
       "ffb9ac57a3a48c19c55c9e53bbe7972da9d48f77 9d433adb876c31646ae067b2c524d0ffbbff2c5b  Samsung$Other   \n",
       "                                         9d433adb876c31646ae067b2c524d0ffbbff2c5b  Samsung$Other   \n",
       "ffcfce8288a96a3120347fdc830685a24e4ec60c 13a55167913dd2906ab086d25dc384e82b9f6b06    Other$Other   \n",
       "                                         13a55167913dd2906ab086d25dc384e82b9f6b06    Other$Other   \n",
       "\n",
       "                                                                                  os_family  \\\n",
       "ip_address                               user_uuid                                            \n",
       "00058790b2925c17d845962e6578ec114475d840 b602d594afd2b0b327e07a06f36ca6a7e42546d0   Windows   \n",
       "                                         b602d594afd2b0b327e07a06f36ca6a7e42546d0   Windows   \n",
       "0019fa41739b4717b75f19cebe93001cf3153de2 b602d594afd2b0b327e07a06f36ca6a7e42546d0   Windows   \n",
       "                                         b602d594afd2b0b327e07a06f36ca6a7e42546d0   Windows   \n",
       "                                         b602d594afd2b0b327e07a06f36ca6a7e42546d0   Windows   \n",
       "...                                                                                     ...   \n",
       "ffa35bfe2cf2465197d6171f249ab5fe6076c530 3c97e8508791ad263e14ed435191ddf873427741       iOS   \n",
       "ffb9ac57a3a48c19c55c9e53bbe7972da9d48f77 9d433adb876c31646ae067b2c524d0ffbbff2c5b     Other   \n",
       "                                         9d433adb876c31646ae067b2c524d0ffbbff2c5b     Other   \n",
       "ffcfce8288a96a3120347fdc830685a24e4ec60c 13a55167913dd2906ab086d25dc384e82b9f6b06   Windows   \n",
       "                                         13a55167913dd2906ab086d25dc384e82b9f6b06   Windows   \n",
       "\n",
       "                                                                                  os_name  \\\n",
       "ip_address                               user_uuid                                          \n",
       "00058790b2925c17d845962e6578ec114475d840 b602d594afd2b0b327e07a06f36ca6a7e42546d0       8   \n",
       "                                         b602d594afd2b0b327e07a06f36ca6a7e42546d0       8   \n",
       "0019fa41739b4717b75f19cebe93001cf3153de2 b602d594afd2b0b327e07a06f36ca6a7e42546d0      10   \n",
       "                                         b602d594afd2b0b327e07a06f36ca6a7e42546d0      10   \n",
       "                                         b602d594afd2b0b327e07a06f36ca6a7e42546d0      10   \n",
       "...                                                                                   ...   \n",
       "ffa35bfe2cf2465197d6171f249ab5fe6076c530 3c97e8508791ad263e14ed435191ddf873427741      11   \n",
       "ffb9ac57a3a48c19c55c9e53bbe7972da9d48f77 9d433adb876c31646ae067b2c524d0ffbbff2c5b   Other   \n",
       "                                         9d433adb876c31646ae067b2c524d0ffbbff2c5b   Other   \n",
       "ffcfce8288a96a3120347fdc830685a24e4ec60c 13a55167913dd2906ab086d25dc384e82b9f6b06      10   \n",
       "                                         13a55167913dd2906ab086d25dc384e82b9f6b06      10   \n",
       "\n",
       "                                                                                  browser_name  \\\n",
       "ip_address                               user_uuid                                               \n",
       "00058790b2925c17d845962e6578ec114475d840 b602d594afd2b0b327e07a06f36ca6a7e42546d0      Firefox   \n",
       "                                         b602d594afd2b0b327e07a06f36ca6a7e42546d0      Firefox   \n",
       "0019fa41739b4717b75f19cebe93001cf3153de2 b602d594afd2b0b327e07a06f36ca6a7e42546d0       Chrome   \n",
       "                                         b602d594afd2b0b327e07a06f36ca6a7e42546d0       Chrome   \n",
       "                                         b602d594afd2b0b327e07a06f36ca6a7e42546d0       Chrome   \n",
       "...                                                                                        ...   \n",
       "ffa35bfe2cf2465197d6171f249ab5fe6076c530 3c97e8508791ad263e14ed435191ddf873427741       Safari   \n",
       "ffb9ac57a3a48c19c55c9e53bbe7972da9d48f77 9d433adb876c31646ae067b2c524d0ffbbff2c5b        Other   \n",
       "                                         9d433adb876c31646ae067b2c524d0ffbbff2c5b        Other   \n",
       "ffcfce8288a96a3120347fdc830685a24e4ec60c 13a55167913dd2906ab086d25dc384e82b9f6b06       Chrome   \n",
       "                                         13a55167913dd2906ab086d25dc384e82b9f6b06       Chrome   \n",
       "\n",
       "                                                                                      locode  \\\n",
       "ip_address                               user_uuid                                             \n",
       "00058790b2925c17d845962e6578ec114475d840 b602d594afd2b0b327e07a06f36ca6a7e42546d0  DE-BY-EET   \n",
       "                                         b602d594afd2b0b327e07a06f36ca6a7e42546d0  DE-BY-EET   \n",
       "0019fa41739b4717b75f19cebe93001cf3153de2 b602d594afd2b0b327e07a06f36ca6a7e42546d0  DE-BW-BAB   \n",
       "                                         b602d594afd2b0b327e07a06f36ca6a7e42546d0  DE-BW-BAB   \n",
       "                                         b602d594afd2b0b327e07a06f36ca6a7e42546d0  DE-BW-BAB   \n",
       "...                                                                                      ...   \n",
       "ffa35bfe2cf2465197d6171f249ab5fe6076c530 3c97e8508791ad263e14ed435191ddf873427741  DE-NW-LUE   \n",
       "ffb9ac57a3a48c19c55c9e53bbe7972da9d48f77 9d433adb876c31646ae067b2c524d0ffbbff2c5b  DE-HH-HAM   \n",
       "                                         9d433adb876c31646ae067b2c524d0ffbbff2c5b  DE-HH-HAM   \n",
       "ffcfce8288a96a3120347fdc830685a24e4ec60c 13a55167913dd2906ab086d25dc384e82b9f6b06  DE-NW-CGN   \n",
       "                                         13a55167913dd2906ab086d25dc384e82b9f6b06  DE-NW-CGN   \n",
       "\n",
       "                                                                                  postal_code  \n",
       "ip_address                               user_uuid                                             \n",
       "00058790b2925c17d845962e6578ec114475d840 b602d594afd2b0b327e07a06f36ca6a7e42546d0       91315  \n",
       "                                         b602d594afd2b0b327e07a06f36ca6a7e42546d0       91315  \n",
       "0019fa41739b4717b75f19cebe93001cf3153de2 b602d594afd2b0b327e07a06f36ca6a7e42546d0       76532  \n",
       "                                         b602d594afd2b0b327e07a06f36ca6a7e42546d0       76532  \n",
       "                                         b602d594afd2b0b327e07a06f36ca6a7e42546d0       76532  \n",
       "...                                                                                       ...  \n",
       "ffa35bfe2cf2465197d6171f249ab5fe6076c530 3c97e8508791ad263e14ed435191ddf873427741       44532  \n",
       "ffb9ac57a3a48c19c55c9e53bbe7972da9d48f77 9d433adb876c31646ae067b2c524d0ffbbff2c5b       20099  \n",
       "                                         9d433adb876c31646ae067b2c524d0ffbbff2c5b       20099  \n",
       "ffcfce8288a96a3120347fdc830685a24e4ec60c 13a55167913dd2906ab086d25dc384e82b9f6b06       50676  \n",
       "                                         13a55167913dd2906ab086d25dc384e82b9f6b06       50676  \n",
       "\n",
       "[1630 rows x 8 columns]"
      ]
     },
     "execution_count": 23,
     "metadata": {},
     "output_type": "execute_result"
    }
   ],
   "source": [
    "df_multi = df.set_index(['ip_address', 'user_uuid']).sort_index(level=0)\n",
    "df_multi"
   ]
  },
  {
   "cell_type": "markdown",
   "metadata": {},
   "source": [
    "# Train-test split"
   ]
  },
  {
   "cell_type": "code",
   "execution_count": 26,
   "metadata": {},
   "outputs": [],
   "source": [
    "from sklearn.model_selection import train_test_split\n",
    "\n",
    "X_train, X_test = train_test_split(df, test_size=0.2, random_state=42)"
   ]
  },
  {
   "cell_type": "markdown",
   "metadata": {},
   "source": [
    "# One-hot encoding"
   ]
  },
  {
   "cell_type": "markdown",
   "metadata": {},
   "source": [
    "One hot needs more feature engineering to account for user_uuid and ip_address."
   ]
  },
  {
   "attachments": {},
   "cell_type": "markdown",
   "metadata": {},
   "source": [
    "Answers:\n",
    "\n",
    "Q1. \n",
    "In short, it is possible to build such a system and there are at least two apporaches:\n",
    "- more traditional - group by ip_address, remove duplicate user_uuid records to rule-out the same devices connected at a later timestamp.\n",
    "- use clustering algorithm to find clusters of the same devices - pre-built DF from above, with groups could potentially help in training.\n",
    "\n",
    "Q2. \n",
    "For ip_addresses changes - the more devices per household the easier to preserve a cluster and compare other columns but it is not sufficient.\n",
    "More importantly, cookies can often stay the same so looking for the same use_uuid cookies would help to find the same device even if IP changed.\n",
    "There is a risk of the same user_uuid for different users but very, very small (still exists though).\n",
    "\n",
    "Q3.\n",
    "More data wish-list:\n",
    "- device serial number (like in Microsoft devices)\n",
    "- user login data (like Apple ID)\n",
    "\n",
    "Q4.\n",
    "Obvious: isolate columns, maybe even put to DF and wriote to .csv directly with pandas \".to_csv\" method."
   ]
  }
 ],
 "metadata": {
  "kernelspec": {
   "display_name": "base",
   "language": "python",
   "name": "python3"
  },
  "language_info": {
   "codemirror_mode": {
    "name": "ipython",
    "version": 3
   },
   "file_extension": ".py",
   "mimetype": "text/x-python",
   "name": "python",
   "nbconvert_exporter": "python",
   "pygments_lexer": "ipython3",
   "version": "3.9.15"
  },
  "orig_nbformat": 4,
  "vscode": {
   "interpreter": {
    "hash": "f64a576300df8b43e6a0c84af54fe07a77cafd9b27847fa416951723aa59ff62"
   }
  }
 },
 "nbformat": 4,
 "nbformat_minor": 2
}
