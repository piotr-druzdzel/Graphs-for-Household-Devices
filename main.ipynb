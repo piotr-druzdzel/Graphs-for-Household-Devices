{
 "cells": [
  {
   "cell_type": "code",
   "execution_count": 6,
   "metadata": {},
   "outputs": [],
   "source": [
    "import pandas as pd\n",
    "import seaborn as sns"
   ]
  },
  {
   "cell_type": "code",
   "execution_count": 2,
   "metadata": {},
   "outputs": [
    {
     "data": {
      "text/html": [
       "<div>\n",
       "<style scoped>\n",
       "    .dataframe tbody tr th:only-of-type {\n",
       "        vertical-align: middle;\n",
       "    }\n",
       "\n",
       "    .dataframe tbody tr th {\n",
       "        vertical-align: top;\n",
       "    }\n",
       "\n",
       "    .dataframe thead th {\n",
       "        text-align: right;\n",
       "    }\n",
       "</style>\n",
       "<table border=\"1\" class=\"dataframe\">\n",
       "  <thead>\n",
       "    <tr style=\"text-align: right;\">\n",
       "      <th></th>\n",
       "      <th>event_time</th>\n",
       "      <th>user_uuid</th>\n",
       "      <th>devicegroup</th>\n",
       "      <th>device</th>\n",
       "      <th>ip_address</th>\n",
       "      <th>os_family</th>\n",
       "      <th>os_name</th>\n",
       "      <th>browser_name</th>\n",
       "      <th>locode</th>\n",
       "      <th>postal_code</th>\n",
       "    </tr>\n",
       "  </thead>\n",
       "  <tbody>\n",
       "    <tr>\n",
       "      <th>0</th>\n",
       "      <td>1534262899</td>\n",
       "      <td>c7f3d022e57d46ec78d1626a016ecb9281fbe2b2</td>\n",
       "      <td>PC</td>\n",
       "      <td>Other$Other</td>\n",
       "      <td>4523dfed2d55afbd76286861e0b764e08d4695f7</td>\n",
       "      <td>Windows</td>\n",
       "      <td>10</td>\n",
       "      <td>Firefox</td>\n",
       "      <td>DE-BY-POS</td>\n",
       "      <td>92353</td>\n",
       "    </tr>\n",
       "    <tr>\n",
       "      <th>1</th>\n",
       "      <td>1534265100</td>\n",
       "      <td>b602d594afd2b0b327e07a06f36ca6a7e42546d0</td>\n",
       "      <td>PC</td>\n",
       "      <td>Other$Other</td>\n",
       "      <td>313f8be041b0a4b47127bdc099ffcb9fbe40aca9</td>\n",
       "      <td>Windows</td>\n",
       "      <td>7</td>\n",
       "      <td>Chrome</td>\n",
       "      <td>DE-ST-MAG</td>\n",
       "      <td>39126</td>\n",
       "    </tr>\n",
       "    <tr>\n",
       "      <th>2</th>\n",
       "      <td>1534265100</td>\n",
       "      <td>7ea941558d60dd9025cf9ff65cc4b07a1e586f21</td>\n",
       "      <td>ConnectedTV</td>\n",
       "      <td>Samsung$Other</td>\n",
       "      <td>8169f04e199ced559079f5612b2bd91304bc3e73</td>\n",
       "      <td>Other</td>\n",
       "      <td>Other</td>\n",
       "      <td>Other</td>\n",
       "      <td>DE-NW-GEB</td>\n",
       "      <td>58285</td>\n",
       "    </tr>\n",
       "    <tr>\n",
       "      <th>3</th>\n",
       "      <td>1534265100</td>\n",
       "      <td>169b447c8b60727820f9b7a3755994e123b2a7c5</td>\n",
       "      <td>Phone</td>\n",
       "      <td>HTC$Other</td>\n",
       "      <td>7535415dde140793e63637086572c4e2d36ba6e5</td>\n",
       "      <td>Android</td>\n",
       "      <td>6</td>\n",
       "      <td>Chrome</td>\n",
       "      <td>DE-NI-DUD</td>\n",
       "      <td>37115</td>\n",
       "    </tr>\n",
       "    <tr>\n",
       "      <th>4</th>\n",
       "      <td>1534265100</td>\n",
       "      <td>169b447c8b60727820f9b7a3755994e123b2a7c5</td>\n",
       "      <td>Phone</td>\n",
       "      <td>HTC$Other</td>\n",
       "      <td>7535415dde140793e63637086572c4e2d36ba6e5</td>\n",
       "      <td>Android</td>\n",
       "      <td>6</td>\n",
       "      <td>Chrome</td>\n",
       "      <td>DE-NI-DUD</td>\n",
       "      <td>37115</td>\n",
       "    </tr>\n",
       "    <tr>\n",
       "      <th>...</th>\n",
       "      <td>...</td>\n",
       "      <td>...</td>\n",
       "      <td>...</td>\n",
       "      <td>...</td>\n",
       "      <td>...</td>\n",
       "      <td>...</td>\n",
       "      <td>...</td>\n",
       "      <td>...</td>\n",
       "      <td>...</td>\n",
       "      <td>...</td>\n",
       "    </tr>\n",
       "    <tr>\n",
       "      <th>26259</th>\n",
       "      <td>1534265999</td>\n",
       "      <td>1aca6233d13bb9e23b0b3b292653eb8bff7486a7</td>\n",
       "      <td>PC</td>\n",
       "      <td>Other$Other</td>\n",
       "      <td>1b34be77c8470ddbb705ca38a43ba4c32e46ef18</td>\n",
       "      <td>Windows</td>\n",
       "      <td>8</td>\n",
       "      <td>Firefox</td>\n",
       "      <td>DE-SN-LEJ</td>\n",
       "      <td>4209</td>\n",
       "    </tr>\n",
       "    <tr>\n",
       "      <th>26260</th>\n",
       "      <td>1534265999</td>\n",
       "      <td>1aca6233d13bb9e23b0b3b292653eb8bff7486a7</td>\n",
       "      <td>PC</td>\n",
       "      <td>Other$Other</td>\n",
       "      <td>1b34be77c8470ddbb705ca38a43ba4c32e46ef18</td>\n",
       "      <td>Windows</td>\n",
       "      <td>8</td>\n",
       "      <td>Firefox</td>\n",
       "      <td>DE-SN-LEJ</td>\n",
       "      <td>4209</td>\n",
       "    </tr>\n",
       "    <tr>\n",
       "      <th>26261</th>\n",
       "      <td>1534265999</td>\n",
       "      <td>1aca6233d13bb9e23b0b3b292653eb8bff7486a7</td>\n",
       "      <td>PC</td>\n",
       "      <td>Other$Other</td>\n",
       "      <td>1b34be77c8470ddbb705ca38a43ba4c32e46ef18</td>\n",
       "      <td>Windows</td>\n",
       "      <td>8</td>\n",
       "      <td>Firefox</td>\n",
       "      <td>DE-SN-LEJ</td>\n",
       "      <td>4209</td>\n",
       "    </tr>\n",
       "    <tr>\n",
       "      <th>26262</th>\n",
       "      <td>1534265999</td>\n",
       "      <td>75e01f11cd4650d8e2221663b18260451e4de6ef</td>\n",
       "      <td>Phone</td>\n",
       "      <td>Samsung$Galaxy</td>\n",
       "      <td>08269cdd472d182bee91485bb998f1618080c9f5</td>\n",
       "      <td>Android</td>\n",
       "      <td>4</td>\n",
       "      <td>Chrome</td>\n",
       "      <td>DE-BE-BER</td>\n",
       "      <td>14193</td>\n",
       "    </tr>\n",
       "    <tr>\n",
       "      <th>26263</th>\n",
       "      <td>1534265999</td>\n",
       "      <td>75e01f11cd4650d8e2221663b18260451e4de6ef</td>\n",
       "      <td>Phone</td>\n",
       "      <td>Samsung$Galaxy</td>\n",
       "      <td>08269cdd472d182bee91485bb998f1618080c9f5</td>\n",
       "      <td>Android</td>\n",
       "      <td>4</td>\n",
       "      <td>Chrome</td>\n",
       "      <td>DE-BE-BER</td>\n",
       "      <td>14193</td>\n",
       "    </tr>\n",
       "  </tbody>\n",
       "</table>\n",
       "<p>26264 rows × 10 columns</p>\n",
       "</div>"
      ],
      "text/plain": [
       "       event_time                                 user_uuid  devicegroup  \\\n",
       "0      1534262899  c7f3d022e57d46ec78d1626a016ecb9281fbe2b2           PC   \n",
       "1      1534265100  b602d594afd2b0b327e07a06f36ca6a7e42546d0           PC   \n",
       "2      1534265100  7ea941558d60dd9025cf9ff65cc4b07a1e586f21  ConnectedTV   \n",
       "3      1534265100  169b447c8b60727820f9b7a3755994e123b2a7c5        Phone   \n",
       "4      1534265100  169b447c8b60727820f9b7a3755994e123b2a7c5        Phone   \n",
       "...           ...                                       ...          ...   \n",
       "26259  1534265999  1aca6233d13bb9e23b0b3b292653eb8bff7486a7           PC   \n",
       "26260  1534265999  1aca6233d13bb9e23b0b3b292653eb8bff7486a7           PC   \n",
       "26261  1534265999  1aca6233d13bb9e23b0b3b292653eb8bff7486a7           PC   \n",
       "26262  1534265999  75e01f11cd4650d8e2221663b18260451e4de6ef        Phone   \n",
       "26263  1534265999  75e01f11cd4650d8e2221663b18260451e4de6ef        Phone   \n",
       "\n",
       "               device                                ip_address os_family  \\\n",
       "0         Other$Other  4523dfed2d55afbd76286861e0b764e08d4695f7   Windows   \n",
       "1         Other$Other  313f8be041b0a4b47127bdc099ffcb9fbe40aca9   Windows   \n",
       "2       Samsung$Other  8169f04e199ced559079f5612b2bd91304bc3e73     Other   \n",
       "3           HTC$Other  7535415dde140793e63637086572c4e2d36ba6e5   Android   \n",
       "4           HTC$Other  7535415dde140793e63637086572c4e2d36ba6e5   Android   \n",
       "...               ...                                       ...       ...   \n",
       "26259     Other$Other  1b34be77c8470ddbb705ca38a43ba4c32e46ef18   Windows   \n",
       "26260     Other$Other  1b34be77c8470ddbb705ca38a43ba4c32e46ef18   Windows   \n",
       "26261     Other$Other  1b34be77c8470ddbb705ca38a43ba4c32e46ef18   Windows   \n",
       "26262  Samsung$Galaxy  08269cdd472d182bee91485bb998f1618080c9f5   Android   \n",
       "26263  Samsung$Galaxy  08269cdd472d182bee91485bb998f1618080c9f5   Android   \n",
       "\n",
       "      os_name browser_name     locode postal_code  \n",
       "0          10      Firefox  DE-BY-POS       92353  \n",
       "1           7       Chrome  DE-ST-MAG       39126  \n",
       "2       Other        Other  DE-NW-GEB       58285  \n",
       "3           6       Chrome  DE-NI-DUD       37115  \n",
       "4           6       Chrome  DE-NI-DUD       37115  \n",
       "...       ...          ...        ...         ...  \n",
       "26259       8      Firefox  DE-SN-LEJ        4209  \n",
       "26260       8      Firefox  DE-SN-LEJ        4209  \n",
       "26261       8      Firefox  DE-SN-LEJ        4209  \n",
       "26262       4       Chrome  DE-BE-BER       14193  \n",
       "26263       4       Chrome  DE-BE-BER       14193  \n",
       "\n",
       "[26264 rows x 10 columns]"
      ]
     },
     "execution_count": 2,
     "metadata": {},
     "output_type": "execute_result"
    }
   ],
   "source": [
    "df = pd.read_csv(\"./data/sample_26000_full_cleansed_anonymized.csv\")\n",
    "df"
   ]
  },
  {
   "cell_type": "code",
   "execution_count": 4,
   "metadata": {},
   "outputs": [
    {
     "name": "stdout",
     "output_type": "stream",
     "text": [
      "<class 'pandas.core.frame.DataFrame'>\n",
      "RangeIndex: 26264 entries, 0 to 26263\n",
      "Data columns (total 10 columns):\n",
      " #   Column        Non-Null Count  Dtype \n",
      "---  ------        --------------  ----- \n",
      " 0   event_time    26264 non-null  int64 \n",
      " 1   user_uuid     26264 non-null  object\n",
      " 2   devicegroup   26264 non-null  object\n",
      " 3   device        26264 non-null  object\n",
      " 4   ip_address    26264 non-null  object\n",
      " 5   os_family     26264 non-null  object\n",
      " 6   os_name       26264 non-null  object\n",
      " 7   browser_name  26264 non-null  object\n",
      " 8   locode        26264 non-null  object\n",
      " 9   postal_code   25136 non-null  object\n",
      "dtypes: int64(1), object(9)\n",
      "memory usage: 2.0+ MB\n"
     ]
    }
   ],
   "source": [
    "df.info()"
   ]
  },
  {
   "cell_type": "code",
   "execution_count": 5,
   "metadata": {},
   "outputs": [
    {
     "data": {
      "text/html": [
       "<div>\n",
       "<style scoped>\n",
       "    .dataframe tbody tr th:only-of-type {\n",
       "        vertical-align: middle;\n",
       "    }\n",
       "\n",
       "    .dataframe tbody tr th {\n",
       "        vertical-align: top;\n",
       "    }\n",
       "\n",
       "    .dataframe thead th {\n",
       "        text-align: right;\n",
       "    }\n",
       "</style>\n",
       "<table border=\"1\" class=\"dataframe\">\n",
       "  <thead>\n",
       "    <tr style=\"text-align: right;\">\n",
       "      <th></th>\n",
       "      <th>event_time</th>\n",
       "    </tr>\n",
       "  </thead>\n",
       "  <tbody>\n",
       "    <tr>\n",
       "      <th>count</th>\n",
       "      <td>2.626400e+04</td>\n",
       "    </tr>\n",
       "    <tr>\n",
       "      <th>mean</th>\n",
       "      <td>1.534265e+09</td>\n",
       "    </tr>\n",
       "    <tr>\n",
       "      <th>std</th>\n",
       "      <td>4.719512e+02</td>\n",
       "    </tr>\n",
       "    <tr>\n",
       "      <th>min</th>\n",
       "      <td>1.534263e+09</td>\n",
       "    </tr>\n",
       "    <tr>\n",
       "      <th>25%</th>\n",
       "      <td>1.534265e+09</td>\n",
       "    </tr>\n",
       "    <tr>\n",
       "      <th>50%</th>\n",
       "      <td>1.534265e+09</td>\n",
       "    </tr>\n",
       "    <tr>\n",
       "      <th>75%</th>\n",
       "      <td>1.534266e+09</td>\n",
       "    </tr>\n",
       "    <tr>\n",
       "      <th>max</th>\n",
       "      <td>1.534266e+09</td>\n",
       "    </tr>\n",
       "  </tbody>\n",
       "</table>\n",
       "</div>"
      ],
      "text/plain": [
       "         event_time\n",
       "count  2.626400e+04\n",
       "mean   1.534265e+09\n",
       "std    4.719512e+02\n",
       "min    1.534263e+09\n",
       "25%    1.534265e+09\n",
       "50%    1.534265e+09\n",
       "75%    1.534266e+09\n",
       "max    1.534266e+09"
      ]
     },
     "execution_count": 5,
     "metadata": {},
     "output_type": "execute_result"
    }
   ],
   "source": [
    "df.describe()"
   ]
  },
  {
   "attachments": {},
   "cell_type": "markdown",
   "metadata": {},
   "source": [
    "# Duplicates check"
   ]
  },
  {
   "cell_type": "code",
   "execution_count": 105,
   "metadata": {},
   "outputs": [],
   "source": [
    "df = df.drop_duplicates()"
   ]
  },
  {
   "attachments": {},
   "cell_type": "markdown",
   "metadata": {},
   "source": [
    "# Missing data check"
   ]
  },
  {
   "cell_type": "code",
   "execution_count": 106,
   "metadata": {},
   "outputs": [
    {
     "data": {
      "text/html": [
       "<div>\n",
       "<style scoped>\n",
       "    .dataframe tbody tr th:only-of-type {\n",
       "        vertical-align: middle;\n",
       "    }\n",
       "\n",
       "    .dataframe tbody tr th {\n",
       "        vertical-align: top;\n",
       "    }\n",
       "\n",
       "    .dataframe thead th {\n",
       "        text-align: right;\n",
       "    }\n",
       "</style>\n",
       "<table border=\"1\" class=\"dataframe\">\n",
       "  <thead>\n",
       "    <tr style=\"text-align: right;\">\n",
       "      <th></th>\n",
       "      <th>N_Missing [-]</th>\n",
       "      <th>Percentage [%]</th>\n",
       "    </tr>\n",
       "  </thead>\n",
       "  <tbody>\n",
       "    <tr>\n",
       "      <th>event_time</th>\n",
       "      <td>0</td>\n",
       "      <td>0.0</td>\n",
       "    </tr>\n",
       "    <tr>\n",
       "      <th>user_uuid</th>\n",
       "      <td>0</td>\n",
       "      <td>0.0</td>\n",
       "    </tr>\n",
       "    <tr>\n",
       "      <th>devicegroup</th>\n",
       "      <td>0</td>\n",
       "      <td>0.0</td>\n",
       "    </tr>\n",
       "    <tr>\n",
       "      <th>device</th>\n",
       "      <td>0</td>\n",
       "      <td>0.0</td>\n",
       "    </tr>\n",
       "    <tr>\n",
       "      <th>ip_address</th>\n",
       "      <td>0</td>\n",
       "      <td>0.0</td>\n",
       "    </tr>\n",
       "    <tr>\n",
       "      <th>os_family</th>\n",
       "      <td>0</td>\n",
       "      <td>0.0</td>\n",
       "    </tr>\n",
       "    <tr>\n",
       "      <th>os_name</th>\n",
       "      <td>0</td>\n",
       "      <td>0.0</td>\n",
       "    </tr>\n",
       "    <tr>\n",
       "      <th>browser_name</th>\n",
       "      <td>0</td>\n",
       "      <td>0.0</td>\n",
       "    </tr>\n",
       "    <tr>\n",
       "      <th>locode</th>\n",
       "      <td>0</td>\n",
       "      <td>0.0</td>\n",
       "    </tr>\n",
       "    <tr>\n",
       "      <th>postal_code</th>\n",
       "      <td>724</td>\n",
       "      <td>5.0</td>\n",
       "    </tr>\n",
       "  </tbody>\n",
       "</table>\n",
       "</div>"
      ],
      "text/plain": [
       "              N_Missing [-]  Percentage [%]\n",
       "event_time                0             0.0\n",
       "user_uuid                 0             0.0\n",
       "devicegroup               0             0.0\n",
       "device                    0             0.0\n",
       "ip_address                0             0.0\n",
       "os_family                 0             0.0\n",
       "os_name                   0             0.0\n",
       "browser_name              0             0.0\n",
       "locode                    0             0.0\n",
       "postal_code             724             5.0"
      ]
     },
     "execution_count": 106,
     "metadata": {},
     "output_type": "execute_result"
    }
   ],
   "source": [
    "missing_dict = dict()\n",
    "\n",
    "# summarize the number of rows with missing values for each column\n",
    "for column in df.columns:\n",
    "    # count number of rows with missing values\n",
    "    n_miss = df[column].isnull().sum()\n",
    "    perc = n_miss / df.shape[0] * 100\n",
    "    # append to dict\n",
    "    missing_dict[column] = [n_miss, perc.round()]\n",
    "\n",
    "missing_df = pd.DataFrame(missing_dict.values(),\n",
    "                          index=missing_dict.keys(),\n",
    "                          columns=['N_Missing [-]', 'Percentage [%]'])\n",
    "missing_df"
   ]
  },
  {
   "cell_type": "markdown",
   "metadata": {},
   "source": [
    "# Inspect the columns"
   ]
  },
  {
   "cell_type": "markdown",
   "metadata": {},
   "source": [
    "#### Event Time"
   ]
  },
  {
   "cell_type": "code",
   "execution_count": 11,
   "metadata": {},
   "outputs": [
    {
     "data": {
      "text/plain": [
       "<AxesSubplot: xlabel='event_time', ylabel='Count'>"
      ]
     },
     "execution_count": 11,
     "metadata": {},
     "output_type": "execute_result"
    },
    {
     "data": {
      "image/png": "[encoded data removed]",
      "text/plain": [
       "<Figure size 640x480 with 1 Axes>"
      ]
     },
     "metadata": {},
     "output_type": "display_data"
    }
   ],
   "source": [
    "sns.histplot(df.event_time)"
   ]
  },
  {
   "cell_type": "markdown",
   "metadata": {},
   "source": [
    "#### User UU ID"
   ]
  },
  {
   "cell_type": "code",
   "execution_count": 29,
   "metadata": {},
   "outputs": [
    {
     "data": {
      "text/plain": [
       "b602d594afd2b0b327e07a06f36ca6a7e42546d0    5873\n",
       "ea48b29e05da74493d397da3ac7533708e8790fd     147\n",
       "174040068c20ff3e16f0f6a16dd36371f2a87d1d      37\n",
       "c6d50ae60dec32654cab6adf015b84b54c31782b      11\n",
       "caa1a9df787b355c0af05bce1d888cabaae390fa      11\n",
       "                                            ... \n",
       "fd3e60d636504c665a18fb084374fed5337e51b9       1\n",
       "145e767be08fe73f96decc5cd41fe2f220b72169       1\n",
       "3ae34daec327bf90840b2ca5ea8d6ee0a3817629       1\n",
       "953ce11643d5aa4f38cc15bbbe3cfb178cd0d530       1\n",
       "7744d4b79adb3869645429e6047a9810ad19fdcb       1\n",
       "Name: user_uuid, Length: 11110, dtype: int64"
      ]
     },
     "execution_count": 29,
     "metadata": {},
     "output_type": "execute_result"
    }
   ],
   "source": [
    "df.user_uuid.value_counts()"
   ]
  },
  {
   "cell_type": "markdown",
   "metadata": {},
   "source": [
    "#### Device group"
   ]
  },
  {
   "cell_type": "code",
   "execution_count": 19,
   "metadata": {},
   "outputs": [
    {
     "data": {
      "text/plain": [
       "PC                 12281\n",
       "Phone               7526\n",
       "ConnectedTV         4755\n",
       "Tablet              1612\n",
       "ConnectedDevice       70\n",
       "SetTopBox             20\n",
       "Name: devicegroup, dtype: int64"
      ]
     },
     "execution_count": 19,
     "metadata": {},
     "output_type": "execute_result"
    }
   ],
   "source": [
    "df.devicegroup.value_counts()"
   ]
  },
  {
   "cell_type": "markdown",
   "metadata": {},
   "source": [
    "#### Device"
   ]
  },
  {
   "cell_type": "code",
   "execution_count": 35,
   "metadata": {},
   "outputs": [
    {
     "data": {
      "text/plain": [
       "Other$Other         12363\n",
       "Samsung$Other        4860\n",
       "Apple$iPhone         2106\n",
       "Apple$Other          2054\n",
       "Apple$iPad           1535\n",
       "Panasonic$Other       746\n",
       "LG$Other              610\n",
       "Sony$Other            493\n",
       "Philips$Other         286\n",
       "Huawei$Other          261\n",
       "Telefunken$Other      145\n",
       "Samsung$Galaxy        131\n",
       "Motorola$Moto          85\n",
       "HTC$Other              74\n",
       "Amazon$Kindle          69\n",
       "Technisat$Other        68\n",
       "Lenovo$Other           67\n",
       "Loewe$Other            59\n",
       "Aldi$Other             56\n",
       "Toshiba$Other          47\n",
       "ZTE$Other              37\n",
       "Hisense$Other          36\n",
       "Microsoft$Xbox         17\n",
       "Other$Nexus            16\n",
       "Vodafone$Other          8\n",
       "Asus$Other              6\n",
       "Microsoft$Lumia         6\n",
       "RIM$Other               5\n",
       "JVC$Other               5\n",
       "Nokia$Other             3\n",
       "Kendo$Other             3\n",
       "Nokia$Lumia             2\n",
       "Sony$PlayStation        2\n",
       "HP$Other                1\n",
       "Apple$iPod              1\n",
       "Nintendo$Wii            1\n",
       "Name: device, dtype: int64"
      ]
     },
     "execution_count": 35,
     "metadata": {},
     "output_type": "execute_result"
    }
   ],
   "source": [
    "df.device.value_counts()"
   ]
  },
  {
   "cell_type": "markdown",
   "metadata": {},
   "source": [
    "#### IP Address"
   ]
  },
  {
   "cell_type": "code",
   "execution_count": 36,
   "metadata": {},
   "outputs": [
    {
     "data": {
      "text/plain": [
       "bf96134a2a35c14daf084af58efebb0f09854ebb    16\n",
       "03ff27505d24ea9eec66dc0b9127f3f1b26e968f    15\n",
       "1786d49f32887b21b118af973994e0a78e238669    15\n",
       "e897fcc02df496db4a033ce1b792d631dc9f9ef7    12\n",
       "ab20bb4a790f5ef32181e3abaa6ef565b905ea85    12\n",
       "                                            ..\n",
       "f1e6014004aa739d406b6c68f12ea30431bc42bd     1\n",
       "91d8f420784369e50696c60ce74536c1d5a5941c     1\n",
       "6c718ce9b63ea9bdf6e8455a0a700e5feec9a807     1\n",
       "52359171c9214713202c2b1d6420f1cbf036d132     1\n",
       "285d0ec1652362aa6148557be3c9e3c6cb6cbd0a     1\n",
       "Name: ip_address, Length: 14468, dtype: int64"
      ]
     },
     "execution_count": 36,
     "metadata": {},
     "output_type": "execute_result"
    }
   ],
   "source": [
    "df.ip_address.value_counts()"
   ]
  },
  {
   "cell_type": "markdown",
   "metadata": {},
   "source": [
    "#### OS Family"
   ]
  },
  {
   "cell_type": "code",
   "execution_count": 37,
   "metadata": {},
   "outputs": [
    {
     "data": {
      "text/plain": [
       "Windows     9939\n",
       "Android     5543\n",
       "iOS         3649\n",
       "Other       2877\n",
       "macOS       2047\n",
       "Linux       1990\n",
       "WebOS        211\n",
       "ChromeOs       8\n",
       "Name: os_family, dtype: int64"
      ]
     },
     "execution_count": 37,
     "metadata": {},
     "output_type": "execute_result"
    }
   ],
   "source": [
    "df.os_family.value_counts()"
   ]
  },
  {
   "cell_type": "markdown",
   "metadata": {},
   "source": [
    "#### OS name"
   ]
  },
  {
   "cell_type": "code",
   "execution_count": 38,
   "metadata": {},
   "outputs": [
    {
     "data": {
      "text/plain": [
       "10           6524\n",
       "Other        5617\n",
       "7            4270\n",
       "8            3069\n",
       "11           2853\n",
       "10.13        1065\n",
       "5             795\n",
       "6             767\n",
       "10.11         380\n",
       "10.12         313\n",
       "4             235\n",
       "10.10         187\n",
       "9             160\n",
       "12             11\n",
       "10.14           8\n",
       "10 Mobile       5\n",
       "Phone 8         5\n",
       "Name: os_name, dtype: int64"
      ]
     },
     "execution_count": 38,
     "metadata": {},
     "output_type": "execute_result"
    }
   ],
   "source": [
    "df.os_name.value_counts()"
   ]
  },
  {
   "cell_type": "markdown",
   "metadata": {},
   "source": [
    "#### Browser name"
   ]
  },
  {
   "cell_type": "code",
   "execution_count": 39,
   "metadata": {},
   "outputs": [
    {
     "data": {
      "text/plain": [
       "Chrome     9575\n",
       "Firefox    4889\n",
       "Safari     4859\n",
       "Other      3491\n",
       "Opera      1564\n",
       "Edge       1281\n",
       "MSIE        587\n",
       "Vivaldi      18\n",
       "Name: browser_name, dtype: int64"
      ]
     },
     "execution_count": 39,
     "metadata": {},
     "output_type": "execute_result"
    }
   ],
   "source": [
    "df.browser_name.value_counts()"
   ]
  },
  {
   "cell_type": "markdown",
   "metadata": {},
   "source": [
    "#### Locode"
   ]
  },
  {
   "cell_type": "code",
   "execution_count": 40,
   "metadata": {},
   "outputs": [
    {
     "data": {
      "text/plain": [
       "DE-BE-BER    1559\n",
       "DE-HH-HAM    1211\n",
       "DE-BY-MUC     819\n",
       "DE-NW-CGN     657\n",
       "DE--          591\n",
       "             ... \n",
       "DE-HE-BEB       1\n",
       "IT-PD-CAP       1\n",
       "DE-BY-UFF       1\n",
       "IT-SP-SPE       1\n",
       "US-MD-S6K       1\n",
       "Name: locode, Length: 2622, dtype: int64"
      ]
     },
     "execution_count": 40,
     "metadata": {},
     "output_type": "execute_result"
    }
   ],
   "source": [
    "df.locode.value_counts()"
   ]
  },
  {
   "cell_type": "markdown",
   "metadata": {},
   "source": [
    "#### Postal code"
   ]
  },
  {
   "cell_type": "code",
   "execution_count": 42,
   "metadata": {},
   "outputs": [
    {
     "data": {
      "text/plain": [
       "12529    569\n",
       "20095    497\n",
       "70173    254\n",
       "80796    182\n",
       "1040     139\n",
       "        ... \n",
       "33054      1\n",
       "94333      1\n",
       "77767      1\n",
       "92681      1\n",
       "7973       1\n",
       "Name: postal_code, Length: 3969, dtype: int64"
      ]
     },
     "execution_count": 42,
     "metadata": {},
     "output_type": "execute_result"
    }
   ],
   "source": [
    "df.postal_code.value_counts()"
   ]
  },
  {
   "cell_type": "markdown",
   "metadata": {},
   "source": [
    "#### Rows with missing postal code"
   ]
  },
  {
   "cell_type": "code",
   "execution_count": 61,
   "metadata": {},
   "outputs": [
    {
     "data": {
      "text/html": [
       "<div>\n",
       "<style scoped>\n",
       "    .dataframe tbody tr th:only-of-type {\n",
       "        vertical-align: middle;\n",
       "    }\n",
       "\n",
       "    .dataframe tbody tr th {\n",
       "        vertical-align: top;\n",
       "    }\n",
       "\n",
       "    .dataframe thead th {\n",
       "        text-align: right;\n",
       "    }\n",
       "</style>\n",
       "<table border=\"1\" class=\"dataframe\">\n",
       "  <thead>\n",
       "    <tr style=\"text-align: right;\">\n",
       "      <th></th>\n",
       "      <th>event_time</th>\n",
       "      <th>user_uuid</th>\n",
       "      <th>devicegroup</th>\n",
       "      <th>device</th>\n",
       "      <th>ip_address</th>\n",
       "      <th>os_family</th>\n",
       "      <th>os_name</th>\n",
       "      <th>browser_name</th>\n",
       "      <th>locode</th>\n",
       "      <th>postal_code</th>\n",
       "    </tr>\n",
       "  </thead>\n",
       "  <tbody>\n",
       "    <tr>\n",
       "      <th>23</th>\n",
       "      <td>1534265103</td>\n",
       "      <td>b602d594afd2b0b327e07a06f36ca6a7e42546d0</td>\n",
       "      <td>PC</td>\n",
       "      <td>Other$Other</td>\n",
       "      <td>64d10fd5d36b336586d59cb160577c379194c30d</td>\n",
       "      <td>Windows</td>\n",
       "      <td>7</td>\n",
       "      <td>Firefox</td>\n",
       "      <td>AT--</td>\n",
       "      <td>NaN</td>\n",
       "    </tr>\n",
       "    <tr>\n",
       "      <th>24</th>\n",
       "      <td>1534265103</td>\n",
       "      <td>b602d594afd2b0b327e07a06f36ca6a7e42546d0</td>\n",
       "      <td>PC</td>\n",
       "      <td>Other$Other</td>\n",
       "      <td>64d10fd5d36b336586d59cb160577c379194c30d</td>\n",
       "      <td>Windows</td>\n",
       "      <td>7</td>\n",
       "      <td>Firefox</td>\n",
       "      <td>AT--</td>\n",
       "      <td>NaN</td>\n",
       "    </tr>\n",
       "    <tr>\n",
       "      <th>25</th>\n",
       "      <td>1534265103</td>\n",
       "      <td>b602d594afd2b0b327e07a06f36ca6a7e42546d0</td>\n",
       "      <td>PC</td>\n",
       "      <td>Other$Other</td>\n",
       "      <td>64d10fd5d36b336586d59cb160577c379194c30d</td>\n",
       "      <td>Windows</td>\n",
       "      <td>7</td>\n",
       "      <td>Firefox</td>\n",
       "      <td>AT--</td>\n",
       "      <td>NaN</td>\n",
       "    </tr>\n",
       "    <tr>\n",
       "      <th>26</th>\n",
       "      <td>1534265103</td>\n",
       "      <td>b602d594afd2b0b327e07a06f36ca6a7e42546d0</td>\n",
       "      <td>PC</td>\n",
       "      <td>Other$Other</td>\n",
       "      <td>64d10fd5d36b336586d59cb160577c379194c30d</td>\n",
       "      <td>Windows</td>\n",
       "      <td>7</td>\n",
       "      <td>Firefox</td>\n",
       "      <td>AT--</td>\n",
       "      <td>NaN</td>\n",
       "    </tr>\n",
       "    <tr>\n",
       "      <th>73</th>\n",
       "      <td>1534265109</td>\n",
       "      <td>4f13fed759e09ff6ce7705744f44977521f9c3a6</td>\n",
       "      <td>Phone</td>\n",
       "      <td>Samsung$Other</td>\n",
       "      <td>1784750dacc0d1f93dc7e03e6281ef60d7cd139b</td>\n",
       "      <td>Android</td>\n",
       "      <td>8</td>\n",
       "      <td>Chrome</td>\n",
       "      <td>AL--</td>\n",
       "      <td>NaN</td>\n",
       "    </tr>\n",
       "    <tr>\n",
       "      <th>...</th>\n",
       "      <td>...</td>\n",
       "      <td>...</td>\n",
       "      <td>...</td>\n",
       "      <td>...</td>\n",
       "      <td>...</td>\n",
       "      <td>...</td>\n",
       "      <td>...</td>\n",
       "      <td>...</td>\n",
       "      <td>...</td>\n",
       "      <td>...</td>\n",
       "    </tr>\n",
       "    <tr>\n",
       "      <th>26220</th>\n",
       "      <td>1534265992</td>\n",
       "      <td>b602d594afd2b0b327e07a06f36ca6a7e42546d0</td>\n",
       "      <td>Tablet</td>\n",
       "      <td>Apple$iPad</td>\n",
       "      <td>739206b4ab9a7ff6dfd679d132f87c691e34d2c7</td>\n",
       "      <td>iOS</td>\n",
       "      <td>11</td>\n",
       "      <td>Safari</td>\n",
       "      <td>DE--</td>\n",
       "      <td>NaN</td>\n",
       "    </tr>\n",
       "    <tr>\n",
       "      <th>26227</th>\n",
       "      <td>1534265993</td>\n",
       "      <td>cde1e6a3029e5d87da50b990525be601c50b5c7e</td>\n",
       "      <td>PC</td>\n",
       "      <td>Apple$Other</td>\n",
       "      <td>a0b3f23faa1b7859ade63cb4ec3a089c42b08d90</td>\n",
       "      <td>macOS</td>\n",
       "      <td>10.13</td>\n",
       "      <td>Chrome</td>\n",
       "      <td>AT--</td>\n",
       "      <td>NaN</td>\n",
       "    </tr>\n",
       "    <tr>\n",
       "      <th>26228</th>\n",
       "      <td>1534265993</td>\n",
       "      <td>cde1e6a3029e5d87da50b990525be601c50b5c7e</td>\n",
       "      <td>PC</td>\n",
       "      <td>Apple$Other</td>\n",
       "      <td>a0b3f23faa1b7859ade63cb4ec3a089c42b08d90</td>\n",
       "      <td>macOS</td>\n",
       "      <td>10.13</td>\n",
       "      <td>Chrome</td>\n",
       "      <td>AT--</td>\n",
       "      <td>NaN</td>\n",
       "    </tr>\n",
       "    <tr>\n",
       "      <th>26229</th>\n",
       "      <td>1534265993</td>\n",
       "      <td>cde1e6a3029e5d87da50b990525be601c50b5c7e</td>\n",
       "      <td>PC</td>\n",
       "      <td>Apple$Other</td>\n",
       "      <td>a0b3f23faa1b7859ade63cb4ec3a089c42b08d90</td>\n",
       "      <td>macOS</td>\n",
       "      <td>10.13</td>\n",
       "      <td>Chrome</td>\n",
       "      <td>AT--</td>\n",
       "      <td>NaN</td>\n",
       "    </tr>\n",
       "    <tr>\n",
       "      <th>26230</th>\n",
       "      <td>1534265993</td>\n",
       "      <td>cde1e6a3029e5d87da50b990525be601c50b5c7e</td>\n",
       "      <td>PC</td>\n",
       "      <td>Apple$Other</td>\n",
       "      <td>a0b3f23faa1b7859ade63cb4ec3a089c42b08d90</td>\n",
       "      <td>macOS</td>\n",
       "      <td>10.13</td>\n",
       "      <td>Chrome</td>\n",
       "      <td>AT--</td>\n",
       "      <td>NaN</td>\n",
       "    </tr>\n",
       "  </tbody>\n",
       "</table>\n",
       "<p>1128 rows × 10 columns</p>\n",
       "</div>"
      ],
      "text/plain": [
       "       event_time                                 user_uuid devicegroup  \\\n",
       "23     1534265103  b602d594afd2b0b327e07a06f36ca6a7e42546d0          PC   \n",
       "24     1534265103  b602d594afd2b0b327e07a06f36ca6a7e42546d0          PC   \n",
       "25     1534265103  b602d594afd2b0b327e07a06f36ca6a7e42546d0          PC   \n",
       "26     1534265103  b602d594afd2b0b327e07a06f36ca6a7e42546d0          PC   \n",
       "73     1534265109  4f13fed759e09ff6ce7705744f44977521f9c3a6       Phone   \n",
       "...           ...                                       ...         ...   \n",
       "26220  1534265992  b602d594afd2b0b327e07a06f36ca6a7e42546d0      Tablet   \n",
       "26227  1534265993  cde1e6a3029e5d87da50b990525be601c50b5c7e          PC   \n",
       "26228  1534265993  cde1e6a3029e5d87da50b990525be601c50b5c7e          PC   \n",
       "26229  1534265993  cde1e6a3029e5d87da50b990525be601c50b5c7e          PC   \n",
       "26230  1534265993  cde1e6a3029e5d87da50b990525be601c50b5c7e          PC   \n",
       "\n",
       "              device                                ip_address os_family  \\\n",
       "23       Other$Other  64d10fd5d36b336586d59cb160577c379194c30d   Windows   \n",
       "24       Other$Other  64d10fd5d36b336586d59cb160577c379194c30d   Windows   \n",
       "25       Other$Other  64d10fd5d36b336586d59cb160577c379194c30d   Windows   \n",
       "26       Other$Other  64d10fd5d36b336586d59cb160577c379194c30d   Windows   \n",
       "73     Samsung$Other  1784750dacc0d1f93dc7e03e6281ef60d7cd139b   Android   \n",
       "...              ...                                       ...       ...   \n",
       "26220     Apple$iPad  739206b4ab9a7ff6dfd679d132f87c691e34d2c7       iOS   \n",
       "26227    Apple$Other  a0b3f23faa1b7859ade63cb4ec3a089c42b08d90     macOS   \n",
       "26228    Apple$Other  a0b3f23faa1b7859ade63cb4ec3a089c42b08d90     macOS   \n",
       "26229    Apple$Other  a0b3f23faa1b7859ade63cb4ec3a089c42b08d90     macOS   \n",
       "26230    Apple$Other  a0b3f23faa1b7859ade63cb4ec3a089c42b08d90     macOS   \n",
       "\n",
       "      os_name browser_name locode postal_code  \n",
       "23          7      Firefox   AT--         NaN  \n",
       "24          7      Firefox   AT--         NaN  \n",
       "25          7      Firefox   AT--         NaN  \n",
       "26          7      Firefox   AT--         NaN  \n",
       "73          8       Chrome   AL--         NaN  \n",
       "...       ...          ...    ...         ...  \n",
       "26220      11       Safari   DE--         NaN  \n",
       "26227   10.13       Chrome   AT--         NaN  \n",
       "26228   10.13       Chrome   AT--         NaN  \n",
       "26229   10.13       Chrome   AT--         NaN  \n",
       "26230   10.13       Chrome   AT--         NaN  \n",
       "\n",
       "[1128 rows x 10 columns]"
      ]
     },
     "execution_count": 61,
     "metadata": {},
     "output_type": "execute_result"
    }
   ],
   "source": [
    "missing_code = df[df.postal_code.isnull()]\n",
    "missing_code"
   ]
  },
  {
   "attachments": {},
   "cell_type": "markdown",
   "metadata": {},
   "source": [
    "# The same devices search\n",
    "Two devices are considered \"in the same household\" if their user_uuid are different (two separate devices) but their ip address \n",
    "overlap at some point (both devices used behind same router)."
   ]
  },
  {
   "cell_type": "code",
   "execution_count": 74,
   "metadata": {},
   "outputs": [],
   "source": [
    "grp = df.groupby('ip_address')"
   ]
  },
  {
   "cell_type": "markdown",
   "metadata": {},
   "source": [
    "#### The same household devices"
   ]
  },
  {
   "cell_type": "code",
   "execution_count": 94,
   "metadata": {},
   "outputs": [
    {
     "data": {
      "text/plain": [
       "ip_address\n",
       "bf96134a2a35c14daf084af58efebb0f09854ebb    16\n",
       "03ff27505d24ea9eec66dc0b9127f3f1b26e968f    15\n",
       "1786d49f32887b21b118af973994e0a78e238669    15\n",
       "fc99c01c4f4895c902698ff012b14563c9837c30    12\n",
       "ab20bb4a790f5ef32181e3abaa6ef565b905ea85    12\n",
       "                                            ..\n",
       "6721b3813e2f72804eeff6dc1ce92c2852173ead     1\n",
       "672313f65ad79308e56a8bf44dd7f0988e91c792     1\n",
       "67235bb42fad63cb01fd4c87fb3ca4050b1a8d1b     1\n",
       "67268e6c50d4b7c24e5f959210f8c60138eb9c44     1\n",
       "ffeaaf7e3615453ff3dc3751f4086ec866544888     1\n",
       "Length: 14468, dtype: int64"
      ]
     },
     "execution_count": 94,
     "metadata": {},
     "output_type": "execute_result"
    }
   ],
   "source": [
    "grp.size().sort_values(ascending=False)"
   ]
  },
  {
   "cell_type": "code",
   "execution_count": 102,
   "metadata": {},
   "outputs": [
    {
     "data": {
      "text/html": [
       "<div>\n",
       "<style scoped>\n",
       "    .dataframe tbody tr th:only-of-type {\n",
       "        vertical-align: middle;\n",
       "    }\n",
       "\n",
       "    .dataframe tbody tr th {\n",
       "        vertical-align: top;\n",
       "    }\n",
       "\n",
       "    .dataframe thead th {\n",
       "        text-align: right;\n",
       "    }\n",
       "</style>\n",
       "<table border=\"1\" class=\"dataframe\">\n",
       "  <thead>\n",
       "    <tr style=\"text-align: right;\">\n",
       "      <th></th>\n",
       "      <th>event_time</th>\n",
       "      <th>user_uuid</th>\n",
       "      <th>devicegroup</th>\n",
       "      <th>device</th>\n",
       "      <th>ip_address</th>\n",
       "      <th>os_family</th>\n",
       "      <th>os_name</th>\n",
       "      <th>browser_name</th>\n",
       "      <th>locode</th>\n",
       "      <th>postal_code</th>\n",
       "    </tr>\n",
       "  </thead>\n",
       "  <tbody>\n",
       "    <tr>\n",
       "      <th>4</th>\n",
       "      <td>1534265100</td>\n",
       "      <td>169b447c8b60727820f9b7a3755994e123b2a7c5</td>\n",
       "      <td>Phone</td>\n",
       "      <td>HTC$Other</td>\n",
       "      <td>7535415dde140793e63637086572c4e2d36ba6e5</td>\n",
       "      <td>Android</td>\n",
       "      <td>6</td>\n",
       "      <td>Chrome</td>\n",
       "      <td>DE-NI-DUD</td>\n",
       "      <td>37115</td>\n",
       "    </tr>\n",
       "    <tr>\n",
       "      <th>5</th>\n",
       "      <td>1534265100</td>\n",
       "      <td>169b447c8b60727820f9b7a3755994e123b2a7c5</td>\n",
       "      <td>Phone</td>\n",
       "      <td>HTC$Other</td>\n",
       "      <td>7535415dde140793e63637086572c4e2d36ba6e5</td>\n",
       "      <td>Android</td>\n",
       "      <td>6</td>\n",
       "      <td>Chrome</td>\n",
       "      <td>DE-NI-DUD</td>\n",
       "      <td>37115</td>\n",
       "    </tr>\n",
       "    <tr>\n",
       "      <th>6</th>\n",
       "      <td>1534265100</td>\n",
       "      <td>169b447c8b60727820f9b7a3755994e123b2a7c5</td>\n",
       "      <td>Phone</td>\n",
       "      <td>HTC$Other</td>\n",
       "      <td>7535415dde140793e63637086572c4e2d36ba6e5</td>\n",
       "      <td>Android</td>\n",
       "      <td>6</td>\n",
       "      <td>Chrome</td>\n",
       "      <td>DE-NI-DUD</td>\n",
       "      <td>37115</td>\n",
       "    </tr>\n",
       "    <tr>\n",
       "      <th>20</th>\n",
       "      <td>1534265103</td>\n",
       "      <td>dacc4f883916168136478164f8871a5bf2dc89b6</td>\n",
       "      <td>PC</td>\n",
       "      <td>Other$Other</td>\n",
       "      <td>3129901fa69636bae1a79a2db466b08bf9003f83</td>\n",
       "      <td>Windows</td>\n",
       "      <td>7</td>\n",
       "      <td>Chrome</td>\n",
       "      <td>DE-RP-</td>\n",
       "      <td>56477</td>\n",
       "    </tr>\n",
       "    <tr>\n",
       "      <th>21</th>\n",
       "      <td>1534265103</td>\n",
       "      <td>dacc4f883916168136478164f8871a5bf2dc89b6</td>\n",
       "      <td>PC</td>\n",
       "      <td>Other$Other</td>\n",
       "      <td>3129901fa69636bae1a79a2db466b08bf9003f83</td>\n",
       "      <td>Windows</td>\n",
       "      <td>7</td>\n",
       "      <td>Chrome</td>\n",
       "      <td>DE-RP-</td>\n",
       "      <td>56477</td>\n",
       "    </tr>\n",
       "    <tr>\n",
       "      <th>...</th>\n",
       "      <td>...</td>\n",
       "      <td>...</td>\n",
       "      <td>...</td>\n",
       "      <td>...</td>\n",
       "      <td>...</td>\n",
       "      <td>...</td>\n",
       "      <td>...</td>\n",
       "      <td>...</td>\n",
       "      <td>...</td>\n",
       "      <td>...</td>\n",
       "    </tr>\n",
       "    <tr>\n",
       "      <th>26259</th>\n",
       "      <td>1534265999</td>\n",
       "      <td>1aca6233d13bb9e23b0b3b292653eb8bff7486a7</td>\n",
       "      <td>PC</td>\n",
       "      <td>Other$Other</td>\n",
       "      <td>1b34be77c8470ddbb705ca38a43ba4c32e46ef18</td>\n",
       "      <td>Windows</td>\n",
       "      <td>8</td>\n",
       "      <td>Firefox</td>\n",
       "      <td>DE-SN-LEJ</td>\n",
       "      <td>4209</td>\n",
       "    </tr>\n",
       "    <tr>\n",
       "      <th>26260</th>\n",
       "      <td>1534265999</td>\n",
       "      <td>1aca6233d13bb9e23b0b3b292653eb8bff7486a7</td>\n",
       "      <td>PC</td>\n",
       "      <td>Other$Other</td>\n",
       "      <td>1b34be77c8470ddbb705ca38a43ba4c32e46ef18</td>\n",
       "      <td>Windows</td>\n",
       "      <td>8</td>\n",
       "      <td>Firefox</td>\n",
       "      <td>DE-SN-LEJ</td>\n",
       "      <td>4209</td>\n",
       "    </tr>\n",
       "    <tr>\n",
       "      <th>26261</th>\n",
       "      <td>1534265999</td>\n",
       "      <td>1aca6233d13bb9e23b0b3b292653eb8bff7486a7</td>\n",
       "      <td>PC</td>\n",
       "      <td>Other$Other</td>\n",
       "      <td>1b34be77c8470ddbb705ca38a43ba4c32e46ef18</td>\n",
       "      <td>Windows</td>\n",
       "      <td>8</td>\n",
       "      <td>Firefox</td>\n",
       "      <td>DE-SN-LEJ</td>\n",
       "      <td>4209</td>\n",
       "    </tr>\n",
       "    <tr>\n",
       "      <th>26262</th>\n",
       "      <td>1534265999</td>\n",
       "      <td>75e01f11cd4650d8e2221663b18260451e4de6ef</td>\n",
       "      <td>Phone</td>\n",
       "      <td>Samsung$Galaxy</td>\n",
       "      <td>08269cdd472d182bee91485bb998f1618080c9f5</td>\n",
       "      <td>Android</td>\n",
       "      <td>4</td>\n",
       "      <td>Chrome</td>\n",
       "      <td>DE-BE-BER</td>\n",
       "      <td>14193</td>\n",
       "    </tr>\n",
       "    <tr>\n",
       "      <th>26263</th>\n",
       "      <td>1534265999</td>\n",
       "      <td>75e01f11cd4650d8e2221663b18260451e4de6ef</td>\n",
       "      <td>Phone</td>\n",
       "      <td>Samsung$Galaxy</td>\n",
       "      <td>08269cdd472d182bee91485bb998f1618080c9f5</td>\n",
       "      <td>Android</td>\n",
       "      <td>4</td>\n",
       "      <td>Chrome</td>\n",
       "      <td>DE-BE-BER</td>\n",
       "      <td>14193</td>\n",
       "    </tr>\n",
       "  </tbody>\n",
       "</table>\n",
       "<p>11796 rows × 10 columns</p>\n",
       "</div>"
      ],
      "text/plain": [
       "       event_time                                 user_uuid devicegroup  \\\n",
       "4      1534265100  169b447c8b60727820f9b7a3755994e123b2a7c5       Phone   \n",
       "5      1534265100  169b447c8b60727820f9b7a3755994e123b2a7c5       Phone   \n",
       "6      1534265100  169b447c8b60727820f9b7a3755994e123b2a7c5       Phone   \n",
       "20     1534265103  dacc4f883916168136478164f8871a5bf2dc89b6          PC   \n",
       "21     1534265103  dacc4f883916168136478164f8871a5bf2dc89b6          PC   \n",
       "...           ...                                       ...         ...   \n",
       "26259  1534265999  1aca6233d13bb9e23b0b3b292653eb8bff7486a7          PC   \n",
       "26260  1534265999  1aca6233d13bb9e23b0b3b292653eb8bff7486a7          PC   \n",
       "26261  1534265999  1aca6233d13bb9e23b0b3b292653eb8bff7486a7          PC   \n",
       "26262  1534265999  75e01f11cd4650d8e2221663b18260451e4de6ef       Phone   \n",
       "26263  1534265999  75e01f11cd4650d8e2221663b18260451e4de6ef       Phone   \n",
       "\n",
       "               device                                ip_address os_family  \\\n",
       "4           HTC$Other  7535415dde140793e63637086572c4e2d36ba6e5   Android   \n",
       "5           HTC$Other  7535415dde140793e63637086572c4e2d36ba6e5   Android   \n",
       "6           HTC$Other  7535415dde140793e63637086572c4e2d36ba6e5   Android   \n",
       "20        Other$Other  3129901fa69636bae1a79a2db466b08bf9003f83   Windows   \n",
       "21        Other$Other  3129901fa69636bae1a79a2db466b08bf9003f83   Windows   \n",
       "...               ...                                       ...       ...   \n",
       "26259     Other$Other  1b34be77c8470ddbb705ca38a43ba4c32e46ef18   Windows   \n",
       "26260     Other$Other  1b34be77c8470ddbb705ca38a43ba4c32e46ef18   Windows   \n",
       "26261     Other$Other  1b34be77c8470ddbb705ca38a43ba4c32e46ef18   Windows   \n",
       "26262  Samsung$Galaxy  08269cdd472d182bee91485bb998f1618080c9f5   Android   \n",
       "26263  Samsung$Galaxy  08269cdd472d182bee91485bb998f1618080c9f5   Android   \n",
       "\n",
       "      os_name browser_name     locode postal_code  \n",
       "4           6       Chrome  DE-NI-DUD       37115  \n",
       "5           6       Chrome  DE-NI-DUD       37115  \n",
       "6           6       Chrome  DE-NI-DUD       37115  \n",
       "20          7       Chrome     DE-RP-       56477  \n",
       "21          7       Chrome     DE-RP-       56477  \n",
       "...       ...          ...        ...         ...  \n",
       "26259       8      Firefox  DE-SN-LEJ        4209  \n",
       "26260       8      Firefox  DE-SN-LEJ        4209  \n",
       "26261       8      Firefox  DE-SN-LEJ        4209  \n",
       "26262       4       Chrome  DE-BE-BER       14193  \n",
       "26263       4       Chrome  DE-BE-BER       14193  \n",
       "\n",
       "[11796 rows x 10 columns]"
      ]
     },
     "execution_count": 102,
     "metadata": {},
     "output_type": "execute_result"
    }
   ],
   "source": [
    "df[df.ip_address.duplicated()]"
   ]
  },
  {
   "cell_type": "code",
   "execution_count": null,
   "metadata": {},
   "outputs": [],
   "source": []
  }
 ],
 "metadata": {
  "kernelspec": {
   "display_name": "base",
   "language": "python",
   "name": "python3"
  },
  "language_info": {
   "codemirror_mode": {
    "name": "ipython",
    "version": 3
   },
   "file_extension": ".py",
   "mimetype": "text/x-python",
   "name": "python",
   "nbconvert_exporter": "python",
   "pygments_lexer": "ipython3",
   "version": "3.9.15"
  },
  "orig_nbformat": 4,
  "vscode": {
   "interpreter": {
    "hash": "f64a576300df8b43e6a0c84af54fe07a77cafd9b27847fa416951723aa59ff62"
   }
  }
 },
 "nbformat": 4,
 "nbformat_minor": 2
}
