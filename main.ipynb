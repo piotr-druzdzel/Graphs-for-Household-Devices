{
 "cells": [
  {
   "cell_type": "code",
   "execution_count": 22,
   "metadata": {},
   "outputs": [],
   "source": [
    "import pandas as pd\n",
    "import seaborn as sns\n",
    "from sklearn.impute import KNNImputer"
   ]
  },
  {
   "cell_type": "code",
   "execution_count": 2,
   "metadata": {},
   "outputs": [
    {
     "data": {
      "text/html": [
       "<div>\n",
       "<style scoped>\n",
       "    .dataframe tbody tr th:only-of-type {\n",
       "        vertical-align: middle;\n",
       "    }\n",
       "\n",
       "    .dataframe tbody tr th {\n",
       "        vertical-align: top;\n",
       "    }\n",
       "\n",
       "    .dataframe thead th {\n",
       "        text-align: right;\n",
       "    }\n",
       "</style>\n",
       "<table border=\"1\" class=\"dataframe\">\n",
       "  <thead>\n",
       "    <tr style=\"text-align: right;\">\n",
       "      <th></th>\n",
       "      <th>event_time</th>\n",
       "      <th>user_uuid</th>\n",
       "      <th>devicegroup</th>\n",
       "      <th>device</th>\n",
       "      <th>ip_address</th>\n",
       "      <th>os_family</th>\n",
       "      <th>os_name</th>\n",
       "      <th>browser_name</th>\n",
       "      <th>locode</th>\n",
       "      <th>postal_code</th>\n",
       "    </tr>\n",
       "  </thead>\n",
       "  <tbody>\n",
       "    <tr>\n",
       "      <th>0</th>\n",
       "      <td>1534262899</td>\n",
       "      <td>c7f3d022e57d46ec78d1626a016ecb9281fbe2b2</td>\n",
       "      <td>PC</td>\n",
       "      <td>Other$Other</td>\n",
       "      <td>4523dfed2d55afbd76286861e0b764e08d4695f7</td>\n",
       "      <td>Windows</td>\n",
       "      <td>10</td>\n",
       "      <td>Firefox</td>\n",
       "      <td>DE-BY-POS</td>\n",
       "      <td>92353</td>\n",
       "    </tr>\n",
       "    <tr>\n",
       "      <th>1</th>\n",
       "      <td>1534265100</td>\n",
       "      <td>b602d594afd2b0b327e07a06f36ca6a7e42546d0</td>\n",
       "      <td>PC</td>\n",
       "      <td>Other$Other</td>\n",
       "      <td>313f8be041b0a4b47127bdc099ffcb9fbe40aca9</td>\n",
       "      <td>Windows</td>\n",
       "      <td>7</td>\n",
       "      <td>Chrome</td>\n",
       "      <td>DE-ST-MAG</td>\n",
       "      <td>39126</td>\n",
       "    </tr>\n",
       "    <tr>\n",
       "      <th>2</th>\n",
       "      <td>1534265100</td>\n",
       "      <td>7ea941558d60dd9025cf9ff65cc4b07a1e586f21</td>\n",
       "      <td>ConnectedTV</td>\n",
       "      <td>Samsung$Other</td>\n",
       "      <td>8169f04e199ced559079f5612b2bd91304bc3e73</td>\n",
       "      <td>Other</td>\n",
       "      <td>Other</td>\n",
       "      <td>Other</td>\n",
       "      <td>DE-NW-GEB</td>\n",
       "      <td>58285</td>\n",
       "    </tr>\n",
       "    <tr>\n",
       "      <th>3</th>\n",
       "      <td>1534265100</td>\n",
       "      <td>169b447c8b60727820f9b7a3755994e123b2a7c5</td>\n",
       "      <td>Phone</td>\n",
       "      <td>HTC$Other</td>\n",
       "      <td>7535415dde140793e63637086572c4e2d36ba6e5</td>\n",
       "      <td>Android</td>\n",
       "      <td>6</td>\n",
       "      <td>Chrome</td>\n",
       "      <td>DE-NI-DUD</td>\n",
       "      <td>37115</td>\n",
       "    </tr>\n",
       "    <tr>\n",
       "      <th>4</th>\n",
       "      <td>1534265100</td>\n",
       "      <td>169b447c8b60727820f9b7a3755994e123b2a7c5</td>\n",
       "      <td>Phone</td>\n",
       "      <td>HTC$Other</td>\n",
       "      <td>7535415dde140793e63637086572c4e2d36ba6e5</td>\n",
       "      <td>Android</td>\n",
       "      <td>6</td>\n",
       "      <td>Chrome</td>\n",
       "      <td>DE-NI-DUD</td>\n",
       "      <td>37115</td>\n",
       "    </tr>\n",
       "    <tr>\n",
       "      <th>...</th>\n",
       "      <td>...</td>\n",
       "      <td>...</td>\n",
       "      <td>...</td>\n",
       "      <td>...</td>\n",
       "      <td>...</td>\n",
       "      <td>...</td>\n",
       "      <td>...</td>\n",
       "      <td>...</td>\n",
       "      <td>...</td>\n",
       "      <td>...</td>\n",
       "    </tr>\n",
       "    <tr>\n",
       "      <th>26259</th>\n",
       "      <td>1534265999</td>\n",
       "      <td>1aca6233d13bb9e23b0b3b292653eb8bff7486a7</td>\n",
       "      <td>PC</td>\n",
       "      <td>Other$Other</td>\n",
       "      <td>1b34be77c8470ddbb705ca38a43ba4c32e46ef18</td>\n",
       "      <td>Windows</td>\n",
       "      <td>8</td>\n",
       "      <td>Firefox</td>\n",
       "      <td>DE-SN-LEJ</td>\n",
       "      <td>4209</td>\n",
       "    </tr>\n",
       "    <tr>\n",
       "      <th>26260</th>\n",
       "      <td>1534265999</td>\n",
       "      <td>1aca6233d13bb9e23b0b3b292653eb8bff7486a7</td>\n",
       "      <td>PC</td>\n",
       "      <td>Other$Other</td>\n",
       "      <td>1b34be77c8470ddbb705ca38a43ba4c32e46ef18</td>\n",
       "      <td>Windows</td>\n",
       "      <td>8</td>\n",
       "      <td>Firefox</td>\n",
       "      <td>DE-SN-LEJ</td>\n",
       "      <td>4209</td>\n",
       "    </tr>\n",
       "    <tr>\n",
       "      <th>26261</th>\n",
       "      <td>1534265999</td>\n",
       "      <td>1aca6233d13bb9e23b0b3b292653eb8bff7486a7</td>\n",
       "      <td>PC</td>\n",
       "      <td>Other$Other</td>\n",
       "      <td>1b34be77c8470ddbb705ca38a43ba4c32e46ef18</td>\n",
       "      <td>Windows</td>\n",
       "      <td>8</td>\n",
       "      <td>Firefox</td>\n",
       "      <td>DE-SN-LEJ</td>\n",
       "      <td>4209</td>\n",
       "    </tr>\n",
       "    <tr>\n",
       "      <th>26262</th>\n",
       "      <td>1534265999</td>\n",
       "      <td>75e01f11cd4650d8e2221663b18260451e4de6ef</td>\n",
       "      <td>Phone</td>\n",
       "      <td>Samsung$Galaxy</td>\n",
       "      <td>08269cdd472d182bee91485bb998f1618080c9f5</td>\n",
       "      <td>Android</td>\n",
       "      <td>4</td>\n",
       "      <td>Chrome</td>\n",
       "      <td>DE-BE-BER</td>\n",
       "      <td>14193</td>\n",
       "    </tr>\n",
       "    <tr>\n",
       "      <th>26263</th>\n",
       "      <td>1534265999</td>\n",
       "      <td>75e01f11cd4650d8e2221663b18260451e4de6ef</td>\n",
       "      <td>Phone</td>\n",
       "      <td>Samsung$Galaxy</td>\n",
       "      <td>08269cdd472d182bee91485bb998f1618080c9f5</td>\n",
       "      <td>Android</td>\n",
       "      <td>4</td>\n",
       "      <td>Chrome</td>\n",
       "      <td>DE-BE-BER</td>\n",
       "      <td>14193</td>\n",
       "    </tr>\n",
       "  </tbody>\n",
       "</table>\n",
       "<p>26264 rows × 10 columns</p>\n",
       "</div>"
      ],
      "text/plain": [
       "       event_time                                 user_uuid  devicegroup  \\\n",
       "0      1534262899  c7f3d022e57d46ec78d1626a016ecb9281fbe2b2           PC   \n",
       "1      1534265100  b602d594afd2b0b327e07a06f36ca6a7e42546d0           PC   \n",
       "2      1534265100  7ea941558d60dd9025cf9ff65cc4b07a1e586f21  ConnectedTV   \n",
       "3      1534265100  169b447c8b60727820f9b7a3755994e123b2a7c5        Phone   \n",
       "4      1534265100  169b447c8b60727820f9b7a3755994e123b2a7c5        Phone   \n",
       "...           ...                                       ...          ...   \n",
       "26259  1534265999  1aca6233d13bb9e23b0b3b292653eb8bff7486a7           PC   \n",
       "26260  1534265999  1aca6233d13bb9e23b0b3b292653eb8bff7486a7           PC   \n",
       "26261  1534265999  1aca6233d13bb9e23b0b3b292653eb8bff7486a7           PC   \n",
       "26262  1534265999  75e01f11cd4650d8e2221663b18260451e4de6ef        Phone   \n",
       "26263  1534265999  75e01f11cd4650d8e2221663b18260451e4de6ef        Phone   \n",
       "\n",
       "               device                                ip_address os_family  \\\n",
       "0         Other$Other  4523dfed2d55afbd76286861e0b764e08d4695f7   Windows   \n",
       "1         Other$Other  313f8be041b0a4b47127bdc099ffcb9fbe40aca9   Windows   \n",
       "2       Samsung$Other  8169f04e199ced559079f5612b2bd91304bc3e73     Other   \n",
       "3           HTC$Other  7535415dde140793e63637086572c4e2d36ba6e5   Android   \n",
       "4           HTC$Other  7535415dde140793e63637086572c4e2d36ba6e5   Android   \n",
       "...               ...                                       ...       ...   \n",
       "26259     Other$Other  1b34be77c8470ddbb705ca38a43ba4c32e46ef18   Windows   \n",
       "26260     Other$Other  1b34be77c8470ddbb705ca38a43ba4c32e46ef18   Windows   \n",
       "26261     Other$Other  1b34be77c8470ddbb705ca38a43ba4c32e46ef18   Windows   \n",
       "26262  Samsung$Galaxy  08269cdd472d182bee91485bb998f1618080c9f5   Android   \n",
       "26263  Samsung$Galaxy  08269cdd472d182bee91485bb998f1618080c9f5   Android   \n",
       "\n",
       "      os_name browser_name     locode postal_code  \n",
       "0          10      Firefox  DE-BY-POS       92353  \n",
       "1           7       Chrome  DE-ST-MAG       39126  \n",
       "2       Other        Other  DE-NW-GEB       58285  \n",
       "3           6       Chrome  DE-NI-DUD       37115  \n",
       "4           6       Chrome  DE-NI-DUD       37115  \n",
       "...       ...          ...        ...         ...  \n",
       "26259       8      Firefox  DE-SN-LEJ        4209  \n",
       "26260       8      Firefox  DE-SN-LEJ        4209  \n",
       "26261       8      Firefox  DE-SN-LEJ        4209  \n",
       "26262       4       Chrome  DE-BE-BER       14193  \n",
       "26263       4       Chrome  DE-BE-BER       14193  \n",
       "\n",
       "[26264 rows x 10 columns]"
      ]
     },
     "execution_count": 2,
     "metadata": {},
     "output_type": "execute_result"
    }
   ],
   "source": [
    "df = pd.read_csv(\"./data/sample_26000_full_cleansed_anonymized.csv\")\n",
    "df"
   ]
  },
  {
   "cell_type": "code",
   "execution_count": 3,
   "metadata": {},
   "outputs": [
    {
     "name": "stdout",
     "output_type": "stream",
     "text": [
      "<class 'pandas.core.frame.DataFrame'>\n",
      "RangeIndex: 26264 entries, 0 to 26263\n",
      "Data columns (total 10 columns):\n",
      " #   Column        Non-Null Count  Dtype \n",
      "---  ------        --------------  ----- \n",
      " 0   event_time    26264 non-null  int64 \n",
      " 1   user_uuid     26264 non-null  object\n",
      " 2   devicegroup   26264 non-null  object\n",
      " 3   device        26264 non-null  object\n",
      " 4   ip_address    26264 non-null  object\n",
      " 5   os_family     26264 non-null  object\n",
      " 6   os_name       26264 non-null  object\n",
      " 7   browser_name  26264 non-null  object\n",
      " 8   locode        26264 non-null  object\n",
      " 9   postal_code   25136 non-null  object\n",
      "dtypes: int64(1), object(9)\n",
      "memory usage: 2.0+ MB\n"
     ]
    }
   ],
   "source": [
    "df.info()"
   ]
  },
  {
   "cell_type": "code",
   "execution_count": 4,
   "metadata": {},
   "outputs": [
    {
     "data": {
      "text/html": [
       "<div>\n",
       "<style scoped>\n",
       "    .dataframe tbody tr th:only-of-type {\n",
       "        vertical-align: middle;\n",
       "    }\n",
       "\n",
       "    .dataframe tbody tr th {\n",
       "        vertical-align: top;\n",
       "    }\n",
       "\n",
       "    .dataframe thead th {\n",
       "        text-align: right;\n",
       "    }\n",
       "</style>\n",
       "<table border=\"1\" class=\"dataframe\">\n",
       "  <thead>\n",
       "    <tr style=\"text-align: right;\">\n",
       "      <th></th>\n",
       "      <th>event_time</th>\n",
       "    </tr>\n",
       "  </thead>\n",
       "  <tbody>\n",
       "    <tr>\n",
       "      <th>count</th>\n",
       "      <td>2.626400e+04</td>\n",
       "    </tr>\n",
       "    <tr>\n",
       "      <th>mean</th>\n",
       "      <td>1.534265e+09</td>\n",
       "    </tr>\n",
       "    <tr>\n",
       "      <th>std</th>\n",
       "      <td>4.719512e+02</td>\n",
       "    </tr>\n",
       "    <tr>\n",
       "      <th>min</th>\n",
       "      <td>1.534263e+09</td>\n",
       "    </tr>\n",
       "    <tr>\n",
       "      <th>25%</th>\n",
       "      <td>1.534265e+09</td>\n",
       "    </tr>\n",
       "    <tr>\n",
       "      <th>50%</th>\n",
       "      <td>1.534265e+09</td>\n",
       "    </tr>\n",
       "    <tr>\n",
       "      <th>75%</th>\n",
       "      <td>1.534266e+09</td>\n",
       "    </tr>\n",
       "    <tr>\n",
       "      <th>max</th>\n",
       "      <td>1.534266e+09</td>\n",
       "    </tr>\n",
       "  </tbody>\n",
       "</table>\n",
       "</div>"
      ],
      "text/plain": [
       "         event_time\n",
       "count  2.626400e+04\n",
       "mean   1.534265e+09\n",
       "std    4.719512e+02\n",
       "min    1.534263e+09\n",
       "25%    1.534265e+09\n",
       "50%    1.534265e+09\n",
       "75%    1.534266e+09\n",
       "max    1.534266e+09"
      ]
     },
     "execution_count": 4,
     "metadata": {},
     "output_type": "execute_result"
    }
   ],
   "source": [
    "df.describe()"
   ]
  },
  {
   "attachments": {},
   "cell_type": "markdown",
   "metadata": {},
   "source": [
    "# Duplicates check"
   ]
  },
  {
   "cell_type": "code",
   "execution_count": 5,
   "metadata": {},
   "outputs": [],
   "source": [
    "df = df.drop_duplicates(keep='first')"
   ]
  },
  {
   "attachments": {},
   "cell_type": "markdown",
   "metadata": {},
   "source": [
    "# Missing data check"
   ]
  },
  {
   "cell_type": "code",
   "execution_count": 32,
   "metadata": {},
   "outputs": [
    {
     "data": {
      "text/html": [
       "<div>\n",
       "<style scoped>\n",
       "    .dataframe tbody tr th:only-of-type {\n",
       "        vertical-align: middle;\n",
       "    }\n",
       "\n",
       "    .dataframe tbody tr th {\n",
       "        vertical-align: top;\n",
       "    }\n",
       "\n",
       "    .dataframe thead th {\n",
       "        text-align: right;\n",
       "    }\n",
       "</style>\n",
       "<table border=\"1\" class=\"dataframe\">\n",
       "  <thead>\n",
       "    <tr style=\"text-align: right;\">\n",
       "      <th></th>\n",
       "      <th>N_Missing [-]</th>\n",
       "      <th>Percentage [%]</th>\n",
       "    </tr>\n",
       "  </thead>\n",
       "  <tbody>\n",
       "    <tr>\n",
       "      <th>event_time</th>\n",
       "      <td>0</td>\n",
       "      <td>0.0</td>\n",
       "    </tr>\n",
       "    <tr>\n",
       "      <th>user_uuid</th>\n",
       "      <td>0</td>\n",
       "      <td>0.0</td>\n",
       "    </tr>\n",
       "    <tr>\n",
       "      <th>devicegroup</th>\n",
       "      <td>0</td>\n",
       "      <td>0.0</td>\n",
       "    </tr>\n",
       "    <tr>\n",
       "      <th>device</th>\n",
       "      <td>0</td>\n",
       "      <td>0.0</td>\n",
       "    </tr>\n",
       "    <tr>\n",
       "      <th>ip_address</th>\n",
       "      <td>0</td>\n",
       "      <td>0.0</td>\n",
       "    </tr>\n",
       "    <tr>\n",
       "      <th>os_family</th>\n",
       "      <td>0</td>\n",
       "      <td>0.0</td>\n",
       "    </tr>\n",
       "    <tr>\n",
       "      <th>os_name</th>\n",
       "      <td>0</td>\n",
       "      <td>0.0</td>\n",
       "    </tr>\n",
       "    <tr>\n",
       "      <th>browser_name</th>\n",
       "      <td>0</td>\n",
       "      <td>0.0</td>\n",
       "    </tr>\n",
       "    <tr>\n",
       "      <th>locode</th>\n",
       "      <td>0</td>\n",
       "      <td>0.0</td>\n",
       "    </tr>\n",
       "    <tr>\n",
       "      <th>postal_code</th>\n",
       "      <td>0</td>\n",
       "      <td>0.0</td>\n",
       "    </tr>\n",
       "  </tbody>\n",
       "</table>\n",
       "</div>"
      ],
      "text/plain": [
       "              N_Missing [-]  Percentage [%]\n",
       "event_time                0             0.0\n",
       "user_uuid                 0             0.0\n",
       "devicegroup               0             0.0\n",
       "device                    0             0.0\n",
       "ip_address                0             0.0\n",
       "os_family                 0             0.0\n",
       "os_name                   0             0.0\n",
       "browser_name              0             0.0\n",
       "locode                    0             0.0\n",
       "postal_code               0             0.0"
      ]
     },
     "execution_count": 32,
     "metadata": {},
     "output_type": "execute_result"
    }
   ],
   "source": [
    "missing_dict = dict()\n",
    "\n",
    "# summarize the number of rows with missing values for each column\n",
    "for column in df.columns:\n",
    "    # count number of rows with missing values\n",
    "    n_miss = df[column].isnull().sum()\n",
    "    perc = n_miss / df.shape[0] * 100\n",
    "    # append to dict\n",
    "    missing_dict[column] = [n_miss, perc.round()]\n",
    "\n",
    "missing_df = pd.DataFrame(missing_dict.values(),\n",
    "                          index=missing_dict.keys(),\n",
    "                          columns=['N_Missing [-]', 'Percentage [%]'])\n",
    "missing_df"
   ]
  },
  {
   "cell_type": "markdown",
   "metadata": {},
   "source": [
    "# Drop the 5% of rows with missing Postal Code"
   ]
  },
  {
   "cell_type": "code",
   "execution_count": 31,
   "metadata": {},
   "outputs": [],
   "source": [
    "df = df.dropna(how='any')"
   ]
  },
  {
   "cell_type": "markdown",
   "metadata": {},
   "source": [
    "#### Rows with missing postal code"
   ]
  },
  {
   "cell_type": "code",
   "execution_count": 33,
   "metadata": {},
   "outputs": [
    {
     "data": {
      "text/html": [
       "<div>\n",
       "<style scoped>\n",
       "    .dataframe tbody tr th:only-of-type {\n",
       "        vertical-align: middle;\n",
       "    }\n",
       "\n",
       "    .dataframe tbody tr th {\n",
       "        vertical-align: top;\n",
       "    }\n",
       "\n",
       "    .dataframe thead th {\n",
       "        text-align: right;\n",
       "    }\n",
       "</style>\n",
       "<table border=\"1\" class=\"dataframe\">\n",
       "  <thead>\n",
       "    <tr style=\"text-align: right;\">\n",
       "      <th></th>\n",
       "      <th>event_time</th>\n",
       "      <th>user_uuid</th>\n",
       "      <th>devicegroup</th>\n",
       "      <th>device</th>\n",
       "      <th>ip_address</th>\n",
       "      <th>os_family</th>\n",
       "      <th>os_name</th>\n",
       "      <th>browser_name</th>\n",
       "      <th>locode</th>\n",
       "      <th>postal_code</th>\n",
       "    </tr>\n",
       "  </thead>\n",
       "  <tbody>\n",
       "  </tbody>\n",
       "</table>\n",
       "</div>"
      ],
      "text/plain": [
       "Empty DataFrame\n",
       "Columns: [event_time, user_uuid, devicegroup, device, ip_address, os_family, os_name, browser_name, locode, postal_code]\n",
       "Index: []"
      ]
     },
     "execution_count": 33,
     "metadata": {},
     "output_type": "execute_result"
    }
   ],
   "source": [
    "missing_code = df[df.postal_code.isnull()]\n",
    "missing_code"
   ]
  },
  {
   "cell_type": "markdown",
   "metadata": {},
   "source": [
    "# Inspect the columns"
   ]
  },
  {
   "cell_type": "markdown",
   "metadata": {},
   "source": [
    "#### Event Time"
   ]
  },
  {
   "cell_type": "code",
   "execution_count": 8,
   "metadata": {},
   "outputs": [
    {
     "data": {
      "text/plain": [
       "<AxesSubplot: xlabel='event_time', ylabel='Count'>"
      ]
     },
     "execution_count": 8,
     "metadata": {},
     "output_type": "execute_result"
    },
    {
     "data": {
      "image/png": "[encoded data removed]",
      "text/plain": [
       "<Figure size 640x480 with 1 Axes>"
      ]
     },
     "metadata": {},
     "output_type": "display_data"
    }
   ],
   "source": [
    "sns.histplot(df.event_time)"
   ]
  },
  {
   "cell_type": "markdown",
   "metadata": {},
   "source": [
    "#### User UU ID"
   ]
  },
  {
   "cell_type": "code",
   "execution_count": 9,
   "metadata": {},
   "outputs": [
    {
     "data": {
      "text/plain": [
       "b602d594afd2b0b327e07a06f36ca6a7e42546d0    3828\n",
       "ea48b29e05da74493d397da3ac7533708e8790fd     108\n",
       "174040068c20ff3e16f0f6a16dd36371f2a87d1d      22\n",
       "5aedcb83537404da8cf8997bfcdbf1ab789606c1       7\n",
       "dbe532627eefa16fc7b487615f4555537bc5058b       6\n",
       "                                            ... \n",
       "978504394d3f5bb3b8cd1f3ec13476bd1854d506       1\n",
       "951281f1aeef4b9188439f7f5dcbc56976a5870f       1\n",
       "282d336b0bdcbb7e7bde119fa531af3eace39c98       1\n",
       "cedc342956326c76f53089f1739f516f429617e4       1\n",
       "2c46e42d1679d27e8bac310f0e82f51f4d68deb0       1\n",
       "Name: user_uuid, Length: 11110, dtype: int64"
      ]
     },
     "execution_count": 9,
     "metadata": {},
     "output_type": "execute_result"
    }
   ],
   "source": [
    "df.user_uuid.value_counts()"
   ]
  },
  {
   "cell_type": "markdown",
   "metadata": {},
   "source": [
    "#### Device group"
   ]
  },
  {
   "cell_type": "code",
   "execution_count": 10,
   "metadata": {},
   "outputs": [
    {
     "data": {
      "text/plain": [
       "PC                 5353\n",
       "ConnectedTV        4723\n",
       "Phone              4350\n",
       "Tablet              938\n",
       "ConnectedDevice      38\n",
       "SetTopBox            20\n",
       "Name: devicegroup, dtype: int64"
      ]
     },
     "execution_count": 10,
     "metadata": {},
     "output_type": "execute_result"
    }
   ],
   "source": [
    "df.devicegroup.value_counts()"
   ]
  },
  {
   "cell_type": "markdown",
   "metadata": {},
   "source": [
    "#### Device"
   ]
  },
  {
   "cell_type": "code",
   "execution_count": 11,
   "metadata": {},
   "outputs": [
    {
     "data": {
      "text/plain": [
       "Other$Other         5938\n",
       "Samsung$Other       3521\n",
       "Apple$iPhone        1310\n",
       "Apple$iPad           889\n",
       "Apple$Other          814\n",
       "Panasonic$Other      740\n",
       "LG$Other             558\n",
       "Sony$Other           492\n",
       "Philips$Other        286\n",
       "Telefunken$Other     142\n",
       "Huawei$Other         133\n",
       "Samsung$Galaxy        82\n",
       "Technisat$Other       68\n",
       "Loewe$Other           59\n",
       "Aldi$Other            56\n",
       "Motorola$Moto         50\n",
       "Toshiba$Other         47\n",
       "HTC$Other             46\n",
       "Amazon$Kindle         37\n",
       "Hisense$Other         36\n",
       "Lenovo$Other          35\n",
       "ZTE$Other             20\n",
       "Microsoft$Xbox        17\n",
       "Other$Nexus            9\n",
       "Microsoft$Lumia        6\n",
       "JVC$Other              5\n",
       "Vodafone$Other         5\n",
       "RIM$Other              5\n",
       "Nokia$Other            3\n",
       "Asus$Other             3\n",
       "Kendo$Other            3\n",
       "Sony$PlayStation       2\n",
       "Nokia$Lumia            2\n",
       "HP$Other               1\n",
       "Apple$iPod             1\n",
       "Nintendo$Wii           1\n",
       "Name: device, dtype: int64"
      ]
     },
     "execution_count": 11,
     "metadata": {},
     "output_type": "execute_result"
    }
   ],
   "source": [
    "df.device.value_counts()"
   ]
  },
  {
   "cell_type": "markdown",
   "metadata": {},
   "source": [
    "#### IP Address"
   ]
  },
  {
   "cell_type": "code",
   "execution_count": 12,
   "metadata": {},
   "outputs": [
    {
     "data": {
      "text/plain": [
       "bf96134a2a35c14daf084af58efebb0f09854ebb    15\n",
       "e897fcc02df496db4a033ce1b792d631dc9f9ef7    11\n",
       "4ec89b1190cda1c4088f6ccd8aaadd5aa287b7f7     8\n",
       "7a70ac711609e52ab12f64ce03a877a8d2e4b947     7\n",
       "b174258bb37b69c7fb427195b3f8c9dd9255af27     7\n",
       "                                            ..\n",
       "36cba4346c2a73cb6044a0cae8c143479e22e5f2     1\n",
       "5c1a44c720e36d98faaca69295eaac49a3681815     1\n",
       "c8350f1dfe7ce4a8409e259efd4e12dfd5a501db     1\n",
       "0aaa015972f4d4d0eace76e8fbf5ec1cd135cbaa     1\n",
       "92dc8cc1cc07e831af0734eba1af6150968410d3     1\n",
       "Name: ip_address, Length: 14468, dtype: int64"
      ]
     },
     "execution_count": 12,
     "metadata": {},
     "output_type": "execute_result"
    }
   ],
   "source": [
    "df.ip_address.value_counts()"
   ]
  },
  {
   "cell_type": "markdown",
   "metadata": {},
   "source": [
    "#### OS Family"
   ]
  },
  {
   "cell_type": "code",
   "execution_count": 13,
   "metadata": {},
   "outputs": [
    {
     "data": {
      "text/plain": [
       "Windows     4379\n",
       "Android     3105\n",
       "Other       2810\n",
       "iOS         2205\n",
       "Linux       1898\n",
       "macOS        809\n",
       "WebOS        210\n",
       "ChromeOs       6\n",
       "Name: os_family, dtype: int64"
      ]
     },
     "execution_count": 13,
     "metadata": {},
     "output_type": "execute_result"
    }
   ],
   "source": [
    "df.os_family.value_counts()"
   ]
  },
  {
   "cell_type": "markdown",
   "metadata": {},
   "source": [
    "#### OS name"
   ]
  },
  {
   "cell_type": "code",
   "execution_count": 14,
   "metadata": {},
   "outputs": [
    {
     "data": {
      "text/plain": [
       "Other        5215\n",
       "10           2853\n",
       "7            2208\n",
       "11           1720\n",
       "8            1535\n",
       "10.13         467\n",
       "5             436\n",
       "6             409\n",
       "4             157\n",
       "10.11         129\n",
       "9             103\n",
       "10.12         103\n",
       "10.10          63\n",
       "12              9\n",
       "10 Mobile       5\n",
       "Phone 8         5\n",
       "10.14           5\n",
       "Name: os_name, dtype: int64"
      ]
     },
     "execution_count": 14,
     "metadata": {},
     "output_type": "execute_result"
    }
   ],
   "source": [
    "df.os_name.value_counts()"
   ]
  },
  {
   "cell_type": "markdown",
   "metadata": {},
   "source": [
    "#### Browser name"
   ]
  },
  {
   "cell_type": "code",
   "execution_count": 15,
   "metadata": {},
   "outputs": [
    {
     "data": {
      "text/plain": [
       "Chrome     4891\n",
       "Other      3411\n",
       "Safari     2678\n",
       "Firefox    2229\n",
       "Opera      1368\n",
       "Edge        510\n",
       "MSIE        320\n",
       "Vivaldi      15\n",
       "Name: browser_name, dtype: int64"
      ]
     },
     "execution_count": 15,
     "metadata": {},
     "output_type": "execute_result"
    }
   ],
   "source": [
    "df.browser_name.value_counts()"
   ]
  },
  {
   "cell_type": "markdown",
   "metadata": {},
   "source": [
    "#### Locode"
   ]
  },
  {
   "cell_type": "code",
   "execution_count": 16,
   "metadata": {},
   "outputs": [
    {
     "data": {
      "text/plain": [
       "DE-BE-BER    857\n",
       "DE-HH-HAM    681\n",
       "DE-BY-MUC    478\n",
       "DE--         378\n",
       "DE-NW-CGN    378\n",
       "            ... \n",
       "DE-NI-DRP      1\n",
       "DE-MV-LZI      1\n",
       "EG-ALX-        1\n",
       "DE-ST-BAT      1\n",
       "DK-82-LVG      1\n",
       "Name: locode, Length: 2622, dtype: int64"
      ]
     },
     "execution_count": 16,
     "metadata": {},
     "output_type": "execute_result"
    }
   ],
   "source": [
    "df.locode.value_counts()"
   ]
  },
  {
   "cell_type": "markdown",
   "metadata": {},
   "source": [
    "#### Postal code"
   ]
  },
  {
   "cell_type": "code",
   "execution_count": 27,
   "metadata": {},
   "outputs": [
    {
     "data": {
      "text/plain": [
       "12529    309\n",
       "20095    284\n",
       "70173    148\n",
       "80796     97\n",
       "50676     82\n",
       "        ... \n",
       "36115      1\n",
       "45879      1\n",
       "32479      1\n",
       "6845       1\n",
       "7620       1\n",
       "Name: postal_code, Length: 3969, dtype: int64"
      ]
     },
     "execution_count": 27,
     "metadata": {},
     "output_type": "execute_result"
    }
   ],
   "source": [
    "df.postal_code.value_counts()"
   ]
  },
  {
   "attachments": {},
   "cell_type": "markdown",
   "metadata": {},
   "source": [
    "# The same devices search\n",
    "Two devices are considered \"in the same household\" if their user_uuid are different (two separate devices) but their ip address \n",
    "overlap at some point (both devices used behind same router)."
   ]
  },
  {
   "cell_type": "code",
   "execution_count": 18,
   "metadata": {},
   "outputs": [],
   "source": [
    "grp = df.groupby('ip_address')"
   ]
  },
  {
   "cell_type": "markdown",
   "metadata": {},
   "source": [
    "#### The same household devices"
   ]
  },
  {
   "cell_type": "code",
   "execution_count": 19,
   "metadata": {},
   "outputs": [
    {
     "data": {
      "text/plain": [
       "ip_address\n",
       "bf96134a2a35c14daf084af58efebb0f09854ebb    15\n",
       "e897fcc02df496db4a033ce1b792d631dc9f9ef7    11\n",
       "4ec89b1190cda1c4088f6ccd8aaadd5aa287b7f7     8\n",
       "7a70ac711609e52ab12f64ce03a877a8d2e4b947     7\n",
       "b174258bb37b69c7fb427195b3f8c9dd9255af27     7\n",
       "                                            ..\n",
       "57c891c4f566e4776c03f56fe45e9436d5386940     1\n",
       "57c8dfc73eefc96484750ae6532ccbaefb731bd5     1\n",
       "57c9824a21e20830fa1430063cc2aabe8e698bb2     1\n",
       "57cae7e901ced798bf53b3f348c46fcae377c317     1\n",
       "ffeaaf7e3615453ff3dc3751f4086ec866544888     1\n",
       "Length: 14468, dtype: int64"
      ]
     },
     "execution_count": 19,
     "metadata": {},
     "output_type": "execute_result"
    }
   ],
   "source": [
    "grp.size().sort_values(ascending=False)"
   ]
  },
  {
   "cell_type": "code",
   "execution_count": 21,
   "metadata": {},
   "outputs": [],
   "source": [
    "#df[df.ip_address.duplicated()]"
   ]
  },
  {
   "cell_type": "code",
   "execution_count": null,
   "metadata": {},
   "outputs": [],
   "source": []
  }
 ],
 "metadata": {
  "kernelspec": {
   "display_name": "base",
   "language": "python",
   "name": "python3"
  },
  "language_info": {
   "codemirror_mode": {
    "name": "ipython",
    "version": 3
   },
   "file_extension": ".py",
   "mimetype": "text/x-python",
   "name": "python",
   "nbconvert_exporter": "python",
   "pygments_lexer": "ipython3",
   "version": "3.9.15"
  },
  "orig_nbformat": 4,
  "vscode": {
   "interpreter": {
    "hash": "f64a576300df8b43e6a0c84af54fe07a77cafd9b27847fa416951723aa59ff62"
   }
  }
 },
 "nbformat": 4,
 "nbformat_minor": 2
}
